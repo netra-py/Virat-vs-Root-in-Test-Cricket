{
 "cells": [
  {
   "cell_type": "markdown",
   "metadata": {},
   "source": [
    "# Virat Kohli v/s Joe Root in Test Cricket"
   ]
  },
  {
   "cell_type": "code",
   "execution_count": 194,
   "metadata": {},
   "outputs": [],
   "source": [
    "import warnings\n",
    "warnings.filterwarnings('ignore')\n",
    "\n",
    "import numpy as np\n",
    "import pandas as pd\n",
    "import matplotlib.pyplot as plt\n",
    "\n",
    "#to display all rows columns \n",
    "pd.set_option('display.max_rows', None)\n",
    "pd.set_option('display.max_columns', None)  \n",
    "pd.set_option('display.expand_frame_repr', False)\n",
    "pd.set_option('max_colwidth', -1)"
   ]
  },
  {
   "cell_type": "code",
   "execution_count": 198,
   "metadata": {},
   "outputs": [],
   "source": [
    "df = pd.read_csv('Men Test Player Innings Stats - 21st Century.csv')"
   ]
  },
  {
   "cell_type": "code",
   "execution_count": 199,
   "metadata": {},
   "outputs": [
    {
     "data": {
      "text/html": [
       "<div>\n",
       "<style scoped>\n",
       "    .dataframe tbody tr th:only-of-type {\n",
       "        vertical-align: middle;\n",
       "    }\n",
       "\n",
       "    .dataframe tbody tr th {\n",
       "        vertical-align: top;\n",
       "    }\n",
       "\n",
       "    .dataframe thead th {\n",
       "        text-align: right;\n",
       "    }\n",
       "</style>\n",
       "<table border=\"1\" class=\"dataframe\">\n",
       "  <thead>\n",
       "    <tr style=\"text-align: right;\">\n",
       "      <th></th>\n",
       "      <th>Innings Player</th>\n",
       "      <th>Innings Runs Scored</th>\n",
       "      <th>Innings Runs Scored Num</th>\n",
       "      <th>Innings Minutes Batted</th>\n",
       "      <th>Innings Batted Flag</th>\n",
       "      <th>Innings Not Out Flag</th>\n",
       "      <th>Innings Balls Faced</th>\n",
       "      <th>Innings Boundary Fours</th>\n",
       "      <th>Innings Boundary Sixes</th>\n",
       "      <th>Innings Batting Strike Rate</th>\n",
       "      <th>Innings Number</th>\n",
       "      <th>Opposition</th>\n",
       "      <th>Ground</th>\n",
       "      <th>Innings Date</th>\n",
       "      <th>Country</th>\n",
       "      <th>50's</th>\n",
       "      <th>100's</th>\n",
       "      <th>Innings Runs Scored Buckets</th>\n",
       "      <th>Innings Overs Bowled</th>\n",
       "      <th>Innings Bowled Flag</th>\n",
       "      <th>Innings Maidens Bowled</th>\n",
       "      <th>Innings Runs Conceded</th>\n",
       "      <th>Innings Wickets Taken</th>\n",
       "      <th>4 Wickets</th>\n",
       "      <th>5 Wickets</th>\n",
       "      <th>10 Wickets</th>\n",
       "      <th>Innings Wickets Taken Buckets</th>\n",
       "      <th>Innings Economy Rate</th>\n",
       "    </tr>\n",
       "  </thead>\n",
       "  <tbody>\n",
       "    <tr>\n",
       "      <th>0</th>\n",
       "      <td>AN Cook</td>\n",
       "      <td>294</td>\n",
       "      <td>294</td>\n",
       "      <td>773</td>\n",
       "      <td>1.0</td>\n",
       "      <td>0.0</td>\n",
       "      <td>545</td>\n",
       "      <td>33</td>\n",
       "      <td>0</td>\n",
       "      <td>53.94</td>\n",
       "      <td>2</td>\n",
       "      <td>v India</td>\n",
       "      <td>Birmingham</td>\n",
       "      <td>2011/08/10</td>\n",
       "      <td>England</td>\n",
       "      <td>0.0</td>\n",
       "      <td>1.0</td>\n",
       "      <td>200+</td>\n",
       "      <td>NaN</td>\n",
       "      <td>NaN</td>\n",
       "      <td>NaN</td>\n",
       "      <td>NaN</td>\n",
       "      <td>NaN</td>\n",
       "      <td>NaN</td>\n",
       "      <td>NaN</td>\n",
       "      <td>NaN</td>\n",
       "      <td>NaN</td>\n",
       "      <td>NaN</td>\n",
       "    </tr>\n",
       "    <tr>\n",
       "      <th>1</th>\n",
       "      <td>AN Cook</td>\n",
       "      <td>263</td>\n",
       "      <td>263</td>\n",
       "      <td>836</td>\n",
       "      <td>1.0</td>\n",
       "      <td>0.0</td>\n",
       "      <td>528</td>\n",
       "      <td>18</td>\n",
       "      <td>0</td>\n",
       "      <td>49.81</td>\n",
       "      <td>2</td>\n",
       "      <td>v Pakistan</td>\n",
       "      <td>Abu Dhabi</td>\n",
       "      <td>2015/10/13</td>\n",
       "      <td>England</td>\n",
       "      <td>0.0</td>\n",
       "      <td>1.0</td>\n",
       "      <td>200+</td>\n",
       "      <td>NaN</td>\n",
       "      <td>NaN</td>\n",
       "      <td>NaN</td>\n",
       "      <td>NaN</td>\n",
       "      <td>NaN</td>\n",
       "      <td>NaN</td>\n",
       "      <td>NaN</td>\n",
       "      <td>NaN</td>\n",
       "      <td>NaN</td>\n",
       "      <td>NaN</td>\n",
       "    </tr>\n",
       "    <tr>\n",
       "      <th>2</th>\n",
       "      <td>BA Stokes</td>\n",
       "      <td>258</td>\n",
       "      <td>258</td>\n",
       "      <td>338</td>\n",
       "      <td>1.0</td>\n",
       "      <td>0.0</td>\n",
       "      <td>198</td>\n",
       "      <td>30</td>\n",
       "      <td>11</td>\n",
       "      <td>130.30</td>\n",
       "      <td>1</td>\n",
       "      <td>v South Africa</td>\n",
       "      <td>Cape Town</td>\n",
       "      <td>2016/01/02</td>\n",
       "      <td>England</td>\n",
       "      <td>0.0</td>\n",
       "      <td>1.0</td>\n",
       "      <td>200+</td>\n",
       "      <td>NaN</td>\n",
       "      <td>NaN</td>\n",
       "      <td>NaN</td>\n",
       "      <td>NaN</td>\n",
       "      <td>NaN</td>\n",
       "      <td>NaN</td>\n",
       "      <td>NaN</td>\n",
       "      <td>NaN</td>\n",
       "      <td>NaN</td>\n",
       "      <td>NaN</td>\n",
       "    </tr>\n",
       "    <tr>\n",
       "      <th>3</th>\n",
       "      <td>JE Root</td>\n",
       "      <td>254</td>\n",
       "      <td>254</td>\n",
       "      <td>614</td>\n",
       "      <td>1.0</td>\n",
       "      <td>0.0</td>\n",
       "      <td>406</td>\n",
       "      <td>27</td>\n",
       "      <td>0</td>\n",
       "      <td>62.56</td>\n",
       "      <td>1</td>\n",
       "      <td>v Pakistan</td>\n",
       "      <td>Manchester</td>\n",
       "      <td>2016/07/22</td>\n",
       "      <td>England</td>\n",
       "      <td>0.0</td>\n",
       "      <td>1.0</td>\n",
       "      <td>200+</td>\n",
       "      <td>NaN</td>\n",
       "      <td>NaN</td>\n",
       "      <td>NaN</td>\n",
       "      <td>NaN</td>\n",
       "      <td>NaN</td>\n",
       "      <td>NaN</td>\n",
       "      <td>NaN</td>\n",
       "      <td>NaN</td>\n",
       "      <td>NaN</td>\n",
       "      <td>NaN</td>\n",
       "    </tr>\n",
       "    <tr>\n",
       "      <th>4</th>\n",
       "      <td>AN Cook</td>\n",
       "      <td>244*</td>\n",
       "      <td>244</td>\n",
       "      <td>634</td>\n",
       "      <td>1.0</td>\n",
       "      <td>1.0</td>\n",
       "      <td>409</td>\n",
       "      <td>27</td>\n",
       "      <td>0</td>\n",
       "      <td>59.65</td>\n",
       "      <td>2</td>\n",
       "      <td>v Australia</td>\n",
       "      <td>Melbourne</td>\n",
       "      <td>2017/12/26</td>\n",
       "      <td>England</td>\n",
       "      <td>0.0</td>\n",
       "      <td>1.0</td>\n",
       "      <td>200+</td>\n",
       "      <td>NaN</td>\n",
       "      <td>NaN</td>\n",
       "      <td>NaN</td>\n",
       "      <td>NaN</td>\n",
       "      <td>NaN</td>\n",
       "      <td>NaN</td>\n",
       "      <td>NaN</td>\n",
       "      <td>NaN</td>\n",
       "      <td>NaN</td>\n",
       "      <td>NaN</td>\n",
       "    </tr>\n",
       "  </tbody>\n",
       "</table>\n",
       "</div>"
      ],
      "text/plain": [
       "  Innings Player Innings Runs Scored Innings Runs Scored Num Innings Minutes Batted  Innings Batted Flag  Innings Not Out Flag Innings Balls Faced Innings Boundary Fours Innings Boundary Sixes Innings Batting Strike Rate Innings Number      Opposition      Ground Innings Date  Country  50's  100's Innings Runs Scored Buckets Innings Overs Bowled  Innings Bowled Flag Innings Maidens Bowled Innings Runs Conceded Innings Wickets Taken  4 Wickets  5 Wickets  10 Wickets Innings Wickets Taken Buckets Innings Economy Rate\n",
       "0  AN Cook        294                 294                     773                    1.0                  0.0                   545                 33                     0                      53.94                       2              v India         Birmingham  2011/08/10   England  0.0   1.0    200+                        NaN                 NaN                   NaN                    NaN                   NaN                  NaN        NaN        NaN          NaN                           NaN                \n",
       "1  AN Cook        263                 263                     836                    1.0                  0.0                   528                 18                     0                      49.81                       2              v Pakistan      Abu Dhabi   2015/10/13   England  0.0   1.0    200+                        NaN                 NaN                   NaN                    NaN                   NaN                  NaN        NaN        NaN          NaN                           NaN                \n",
       "2  BA Stokes      258                 258                     338                    1.0                  0.0                   198                 30                     11                     130.30                      1              v South Africa  Cape Town   2016/01/02   England  0.0   1.0    200+                        NaN                 NaN                   NaN                    NaN                   NaN                  NaN        NaN        NaN          NaN                           NaN                \n",
       "3  JE Root        254                 254                     614                    1.0                  0.0                   406                 27                     0                      62.56                       1              v Pakistan      Manchester  2016/07/22   England  0.0   1.0    200+                        NaN                 NaN                   NaN                    NaN                   NaN                  NaN        NaN        NaN          NaN                           NaN                \n",
       "4  AN Cook        244*                244                     634                    1.0                  1.0                   409                 27                     0                      59.65                       2              v Australia     Melbourne   2017/12/26   England  0.0   1.0    200+                        NaN                 NaN                   NaN                    NaN                   NaN                  NaN        NaN        NaN          NaN                           NaN                "
      ]
     },
     "execution_count": 199,
     "metadata": {},
     "output_type": "execute_result"
    }
   ],
   "source": [
    "df.head()"
   ]
  },
  {
   "cell_type": "code",
   "execution_count": 200,
   "metadata": {},
   "outputs": [
    {
     "data": {
      "text/plain": [
       "(208778, 28)"
      ]
     },
     "execution_count": 200,
     "metadata": {},
     "output_type": "execute_result"
    }
   ],
   "source": [
    "df.shape"
   ]
  },
  {
   "cell_type": "code",
   "execution_count": 201,
   "metadata": {},
   "outputs": [
    {
     "data": {
      "text/plain": [
       "array(['294', '263', '258', '254', '244', '243', '235', '227', '226',\n",
       "       '221', '219', '206', '203', '202', '200', '199', '197', '195',\n",
       "       '194', '193', '190', '189', '186', '184', '183', '182', '180',\n",
       "       '177', '176', '175', '173', '169', '168', '167', '166', '162',\n",
       "       '161', '160', '159', '158', '156', '155', '154', '152', '151',\n",
       "       '150', '149', '148', '147', '146', '145', '144', '143', '142',\n",
       "       '141', '140', '139', '138', '137', '136', '135', '134', '133',\n",
       "       '132', '131', '130', '129', '128', '127', '126', '125', '124',\n",
       "       '123', '122', '121', '120', '119', '118', '117', '116', '115',\n",
       "       '114', '113', '112', '111', '110', '109', '108', '107', '106',\n",
       "       '105', '104', '103', '102', '101', '100', '99', '98', '97', '96',\n",
       "       '95', '94', '93', '92', '91', '90', '89', '88', '87', '86', '85',\n",
       "       '84', '83', '82', '81', '80', '79', '78', '77', '76', '75', '74',\n",
       "       '73', '72', '71', '70', '69', '68', '67', '66', '65', '64', '63',\n",
       "       '62', '61', '60', '59', '58', '57', '56', '55', '54', '53', '52',\n",
       "       '51', '50', '49', '48', '47', '46', '45', '44', '43', '42', '41',\n",
       "       '40', '39', '38', '37', '36', '35', '34', '33', '32', '31', '30',\n",
       "       '29', '28', '27', '26', '25', '24', '23', '22', '21', '20', '19',\n",
       "       '18', '17', '16', '15', '14', '13', '12', '11', '10', '9', '8',\n",
       "       '7', '6', '5', '4', '3', '2', '1', '0', '-', '380', '335', '329',\n",
       "       '269', '259', '257', '253', '250', '242', '239', '230', '215',\n",
       "       '211', '210', '209', '207', '204', '201', '196', '192', '191',\n",
       "       '187', '185', '181', '178', '174', '171', '170', '165', '163',\n",
       "       '157', '153', '311', '278', '277', '234', '232', '228', '224',\n",
       "       '222', '220', '217', '208', '179', '164', nan, '400', '333', '317',\n",
       "       '291', '261', '260', '233', '218', '216', '213', '212', '302',\n",
       "       '290', '274', '264', '262', '225', '205', '319', '309', '303',\n",
       "       '293', '281', '270', '248', '241', '214', '188', '313', '267',\n",
       "       '245', '236', '223', '374', '287', '275', '249', '240', '237',\n",
       "       '231'], dtype=object)"
      ]
     },
     "execution_count": 201,
     "metadata": {},
     "output_type": "execute_result"
    }
   ],
   "source": [
    "df['Innings Runs Scored Num'].unique()"
   ]
  },
  {
   "cell_type": "code",
   "execution_count": 202,
   "metadata": {},
   "outputs": [],
   "source": [
    "df = df[df['Innings Runs Scored Num'] != '-']"
   ]
  },
  {
   "cell_type": "code",
   "execution_count": 203,
   "metadata": {},
   "outputs": [],
   "source": [
    "# df['Innings Runs Scored Num'].unique()"
   ]
  },
  {
   "cell_type": "code",
   "execution_count": 204,
   "metadata": {},
   "outputs": [
    {
     "data": {
      "text/plain": [
       "array(['294', '263', '258', '254', '244', '243', '235', '227', '226',\n",
       "       '221', '219', '206', '203', '202', '200', '199', '197', '195',\n",
       "       '194', '193', '190', '189', '186', '184', '183', '182', '180',\n",
       "       '177', '176', '175', '173', '169', '168', '167', '166', '162',\n",
       "       '161', '160', '159', '158', '156', '155', '154', '152', '151',\n",
       "       '150', '149', '148', '147', '146', '145', '144', '143', '142',\n",
       "       '141', '140', '139', '138', '137', '136', '135', '134', '133',\n",
       "       '132', '131', '130', '129', '128', '127', '126', '125', '124',\n",
       "       '123', '122', '121', '120', '119', '118', '117', '116', '115',\n",
       "       '114', '113', '112', '111', '110', '109', '108', '107', '106',\n",
       "       '105', '104', '103', '102', '101', '100', '99', '98', '97', '96',\n",
       "       '95', '94', '93', '92', '91', '90', '89', '88', '87', '86', '85',\n",
       "       '84', '83', '82', '81', '80', '79', '78', '77', '76', '75', '74',\n",
       "       '73', '72', '71', '70', '69', '68', '67', '66', '65', '64', '63',\n",
       "       '62', '61', '60', '59', '58', '57', '56', '55', '54', '53', '52',\n",
       "       '51', '50', '49', '48', '47', '46', '45', '44', '43', '42', '41',\n",
       "       '40', '39', '38', '37', '36', '35', '34', '33', '32', '31', '30',\n",
       "       '29', '28', '27', '26', '25', '24', '23', '22', '21', '20', '19',\n",
       "       '18', '17', '16', '15', '14', '13', '12', '11', '10', '9', '8',\n",
       "       '7', '6', '5', '4', '3', '2', '1', '0', '380', '335', '329', '269',\n",
       "       '259', '257', '253', '250', '242', '239', '230', '215', '211',\n",
       "       '210', '209', '207', '204', '201', '196', '192', '191', '187',\n",
       "       '185', '181', '178', '174', '171', '170', '165', '163', '157',\n",
       "       '153', '311', '278', '277', '234', '232', '228', '224', '222',\n",
       "       '220', '217', '208', '179', '164', '400', '333', '317', '291',\n",
       "       '261', '260', '233', '218', '216', '213', '212', '302', '290',\n",
       "       '274', '264', '262', '225', '205', '319', '309', '303', '293',\n",
       "       '281', '270', '248', '241', '214', '188', '313', '267', '245',\n",
       "       '236', '223', '374', '287', '275', '249', '240', '237', '231'],\n",
       "      dtype=object)"
      ]
     },
     "execution_count": 204,
     "metadata": {},
     "output_type": "execute_result"
    }
   ],
   "source": [
    "df = df.dropna(subset=['Innings Runs Scored Num'])\n",
    "df['Innings Runs Scored Num'].unique()"
   ]
  },
  {
   "cell_type": "code",
   "execution_count": 205,
   "metadata": {},
   "outputs": [],
   "source": [
    "# convert to datetime\n",
    "df['Innings Date'] = pd.to_datetime(df['Innings Date'])"
   ]
  },
  {
   "cell_type": "code",
   "execution_count": 206,
   "metadata": {},
   "outputs": [],
   "source": [
    "df['year'] = df['Innings Date'].dt.year"
   ]
  },
  {
   "cell_type": "code",
   "execution_count": 207,
   "metadata": {},
   "outputs": [
    {
     "data": {
      "text/html": [
       "<div>\n",
       "<style scoped>\n",
       "    .dataframe tbody tr th:only-of-type {\n",
       "        vertical-align: middle;\n",
       "    }\n",
       "\n",
       "    .dataframe tbody tr th {\n",
       "        vertical-align: top;\n",
       "    }\n",
       "\n",
       "    .dataframe thead th {\n",
       "        text-align: right;\n",
       "    }\n",
       "</style>\n",
       "<table border=\"1\" class=\"dataframe\">\n",
       "  <thead>\n",
       "    <tr style=\"text-align: right;\">\n",
       "      <th></th>\n",
       "      <th>Innings Player</th>\n",
       "      <th>Innings Runs Scored</th>\n",
       "      <th>Innings Runs Scored Num</th>\n",
       "      <th>Innings Minutes Batted</th>\n",
       "      <th>Innings Batted Flag</th>\n",
       "      <th>Innings Not Out Flag</th>\n",
       "      <th>Innings Balls Faced</th>\n",
       "      <th>Innings Boundary Fours</th>\n",
       "      <th>Innings Boundary Sixes</th>\n",
       "      <th>Innings Batting Strike Rate</th>\n",
       "      <th>Innings Number</th>\n",
       "      <th>Opposition</th>\n",
       "      <th>Ground</th>\n",
       "      <th>Innings Date</th>\n",
       "      <th>Country</th>\n",
       "      <th>50's</th>\n",
       "      <th>100's</th>\n",
       "      <th>Innings Runs Scored Buckets</th>\n",
       "      <th>Innings Overs Bowled</th>\n",
       "      <th>Innings Bowled Flag</th>\n",
       "      <th>Innings Maidens Bowled</th>\n",
       "      <th>Innings Runs Conceded</th>\n",
       "      <th>Innings Wickets Taken</th>\n",
       "      <th>4 Wickets</th>\n",
       "      <th>5 Wickets</th>\n",
       "      <th>10 Wickets</th>\n",
       "      <th>Innings Wickets Taken Buckets</th>\n",
       "      <th>Innings Economy Rate</th>\n",
       "      <th>year</th>\n",
       "    </tr>\n",
       "  </thead>\n",
       "  <tbody>\n",
       "    <tr>\n",
       "      <th>0</th>\n",
       "      <td>AN Cook</td>\n",
       "      <td>294</td>\n",
       "      <td>294</td>\n",
       "      <td>773</td>\n",
       "      <td>1.0</td>\n",
       "      <td>0.0</td>\n",
       "      <td>545</td>\n",
       "      <td>33</td>\n",
       "      <td>0</td>\n",
       "      <td>53.94</td>\n",
       "      <td>2</td>\n",
       "      <td>v India</td>\n",
       "      <td>Birmingham</td>\n",
       "      <td>2011-08-10</td>\n",
       "      <td>England</td>\n",
       "      <td>0.0</td>\n",
       "      <td>1.0</td>\n",
       "      <td>200+</td>\n",
       "      <td>NaN</td>\n",
       "      <td>NaN</td>\n",
       "      <td>NaN</td>\n",
       "      <td>NaN</td>\n",
       "      <td>NaN</td>\n",
       "      <td>NaN</td>\n",
       "      <td>NaN</td>\n",
       "      <td>NaN</td>\n",
       "      <td>NaN</td>\n",
       "      <td>NaN</td>\n",
       "      <td>2011</td>\n",
       "    </tr>\n",
       "    <tr>\n",
       "      <th>1</th>\n",
       "      <td>AN Cook</td>\n",
       "      <td>263</td>\n",
       "      <td>263</td>\n",
       "      <td>836</td>\n",
       "      <td>1.0</td>\n",
       "      <td>0.0</td>\n",
       "      <td>528</td>\n",
       "      <td>18</td>\n",
       "      <td>0</td>\n",
       "      <td>49.81</td>\n",
       "      <td>2</td>\n",
       "      <td>v Pakistan</td>\n",
       "      <td>Abu Dhabi</td>\n",
       "      <td>2015-10-13</td>\n",
       "      <td>England</td>\n",
       "      <td>0.0</td>\n",
       "      <td>1.0</td>\n",
       "      <td>200+</td>\n",
       "      <td>NaN</td>\n",
       "      <td>NaN</td>\n",
       "      <td>NaN</td>\n",
       "      <td>NaN</td>\n",
       "      <td>NaN</td>\n",
       "      <td>NaN</td>\n",
       "      <td>NaN</td>\n",
       "      <td>NaN</td>\n",
       "      <td>NaN</td>\n",
       "      <td>NaN</td>\n",
       "      <td>2015</td>\n",
       "    </tr>\n",
       "  </tbody>\n",
       "</table>\n",
       "</div>"
      ],
      "text/plain": [
       "  Innings Player Innings Runs Scored Innings Runs Scored Num Innings Minutes Batted  Innings Batted Flag  Innings Not Out Flag Innings Balls Faced Innings Boundary Fours Innings Boundary Sixes Innings Batting Strike Rate Innings Number  Opposition      Ground Innings Date  Country  50's  100's Innings Runs Scored Buckets Innings Overs Bowled  Innings Bowled Flag Innings Maidens Bowled Innings Runs Conceded Innings Wickets Taken  4 Wickets  5 Wickets  10 Wickets Innings Wickets Taken Buckets Innings Economy Rate  year\n",
       "0  AN Cook        294                 294                     773                    1.0                  0.0                   545                 33                     0                      53.94                       2              v India     Birmingham 2011-08-10    England  0.0   1.0    200+                        NaN                 NaN                   NaN                    NaN                   NaN                  NaN        NaN        NaN          NaN                           NaN                  2011\n",
       "1  AN Cook        263                 263                     836                    1.0                  0.0                   528                 18                     0                      49.81                       2              v Pakistan  Abu Dhabi  2015-10-13    England  0.0   1.0    200+                        NaN                 NaN                   NaN                    NaN                   NaN                  NaN        NaN        NaN          NaN                           NaN                  2015"
      ]
     },
     "execution_count": 207,
     "metadata": {},
     "output_type": "execute_result"
    }
   ],
   "source": [
    "df.head((2))"
   ]
  },
  {
   "cell_type": "code",
   "execution_count": 208,
   "metadata": {},
   "outputs": [
    {
     "data": {
      "text/plain": [
       "Innings Player                   object        \n",
       "Innings Runs Scored              object        \n",
       "Innings Runs Scored Num          object        \n",
       "Innings Minutes Batted           object        \n",
       "Innings Batted Flag              float64       \n",
       "Innings Not Out Flag             float64       \n",
       "Innings Balls Faced              object        \n",
       "Innings Boundary Fours           object        \n",
       "Innings Boundary Sixes           object        \n",
       "Innings Batting Strike Rate      object        \n",
       "Innings Number                   object        \n",
       "Opposition                       object        \n",
       "Ground                           object        \n",
       "Innings Date                     datetime64[ns]\n",
       "Country                          object        \n",
       "50's                             float64       \n",
       "100's                            float64       \n",
       "Innings Runs Scored Buckets      object        \n",
       "Innings Overs Bowled             object        \n",
       "Innings Bowled Flag              float64       \n",
       "Innings Maidens Bowled           object        \n",
       "Innings Runs Conceded            object        \n",
       "Innings Wickets Taken            object        \n",
       "4 Wickets                        float64       \n",
       "5 Wickets                        float64       \n",
       "10 Wickets                       float64       \n",
       "Innings Wickets Taken Buckets    object        \n",
       "Innings Economy Rate             object        \n",
       "year                             int64         \n",
       "dtype: object"
      ]
     },
     "execution_count": 208,
     "metadata": {},
     "output_type": "execute_result"
    }
   ],
   "source": [
    "df.dtypes"
   ]
  },
  {
   "cell_type": "code",
   "execution_count": 209,
   "metadata": {},
   "outputs": [],
   "source": [
    "df['Innings Runs Scored Num'] = df['Innings Runs Scored Num'].astype('int')\n",
    "df['Innings Balls Faced'] = df['Innings Balls Faced'].astype('int')"
   ]
  },
  {
   "cell_type": "code",
   "execution_count": 210,
   "metadata": {},
   "outputs": [
    {
     "data": {
      "text/plain": [
       "Innings Player                   object        \n",
       "Innings Runs Scored              object        \n",
       "Innings Runs Scored Num          int32         \n",
       "Innings Minutes Batted           object        \n",
       "Innings Batted Flag              float64       \n",
       "Innings Not Out Flag             float64       \n",
       "Innings Balls Faced              int32         \n",
       "Innings Boundary Fours           object        \n",
       "Innings Boundary Sixes           object        \n",
       "Innings Batting Strike Rate      object        \n",
       "Innings Number                   object        \n",
       "Opposition                       object        \n",
       "Ground                           object        \n",
       "Innings Date                     datetime64[ns]\n",
       "Country                          object        \n",
       "50's                             float64       \n",
       "100's                            float64       \n",
       "Innings Runs Scored Buckets      object        \n",
       "Innings Overs Bowled             object        \n",
       "Innings Bowled Flag              float64       \n",
       "Innings Maidens Bowled           object        \n",
       "Innings Runs Conceded            object        \n",
       "Innings Wickets Taken            object        \n",
       "4 Wickets                        float64       \n",
       "5 Wickets                        float64       \n",
       "10 Wickets                       float64       \n",
       "Innings Wickets Taken Buckets    object        \n",
       "Innings Economy Rate             object        \n",
       "year                             int64         \n",
       "dtype: object"
      ]
     },
     "execution_count": 210,
     "metadata": {},
     "output_type": "execute_result"
    }
   ],
   "source": [
    "df.dtypes"
   ]
  },
  {
   "cell_type": "code",
   "execution_count": null,
   "metadata": {},
   "outputs": [],
   "source": []
  },
  {
   "cell_type": "code",
   "execution_count": 211,
   "metadata": {},
   "outputs": [],
   "source": [
    "# virat's debut in 2011 and Root's debut in 2012\n",
    "# virat's first century in 2012 and Root's first century in 2013\n",
    "# so we consider their respective data from the year of their first century"
   ]
  },
  {
   "cell_type": "code",
   "execution_count": 212,
   "metadata": {},
   "outputs": [
    {
     "data": {
      "text/html": [
       "<div>\n",
       "<style scoped>\n",
       "    .dataframe tbody tr th:only-of-type {\n",
       "        vertical-align: middle;\n",
       "    }\n",
       "\n",
       "    .dataframe tbody tr th {\n",
       "        vertical-align: top;\n",
       "    }\n",
       "\n",
       "    .dataframe thead th {\n",
       "        text-align: right;\n",
       "    }\n",
       "</style>\n",
       "<table border=\"1\" class=\"dataframe\">\n",
       "  <thead>\n",
       "    <tr style=\"text-align: right;\">\n",
       "      <th></th>\n",
       "      <th>Innings Player</th>\n",
       "      <th>Innings Runs Scored</th>\n",
       "      <th>Innings Runs Scored Num</th>\n",
       "      <th>Innings Minutes Batted</th>\n",
       "      <th>Innings Batted Flag</th>\n",
       "      <th>Innings Not Out Flag</th>\n",
       "      <th>Innings Balls Faced</th>\n",
       "      <th>Innings Boundary Fours</th>\n",
       "      <th>Innings Boundary Sixes</th>\n",
       "      <th>Innings Batting Strike Rate</th>\n",
       "      <th>Innings Number</th>\n",
       "      <th>Opposition</th>\n",
       "      <th>Ground</th>\n",
       "      <th>Innings Date</th>\n",
       "      <th>Country</th>\n",
       "      <th>50's</th>\n",
       "      <th>100's</th>\n",
       "      <th>Innings Runs Scored Buckets</th>\n",
       "      <th>Innings Overs Bowled</th>\n",
       "      <th>Innings Bowled Flag</th>\n",
       "      <th>Innings Maidens Bowled</th>\n",
       "      <th>Innings Runs Conceded</th>\n",
       "      <th>Innings Wickets Taken</th>\n",
       "      <th>4 Wickets</th>\n",
       "      <th>5 Wickets</th>\n",
       "      <th>10 Wickets</th>\n",
       "      <th>Innings Wickets Taken Buckets</th>\n",
       "      <th>Innings Economy Rate</th>\n",
       "      <th>year</th>\n",
       "    </tr>\n",
       "  </thead>\n",
       "  <tbody>\n",
       "    <tr>\n",
       "      <th>1</th>\n",
       "      <td>AN Cook</td>\n",
       "      <td>263</td>\n",
       "      <td>263</td>\n",
       "      <td>836</td>\n",
       "      <td>1.0</td>\n",
       "      <td>0.0</td>\n",
       "      <td>528</td>\n",
       "      <td>18</td>\n",
       "      <td>0</td>\n",
       "      <td>49.81</td>\n",
       "      <td>2</td>\n",
       "      <td>v Pakistan</td>\n",
       "      <td>Abu Dhabi</td>\n",
       "      <td>2015-10-13</td>\n",
       "      <td>England</td>\n",
       "      <td>0.0</td>\n",
       "      <td>1.0</td>\n",
       "      <td>200+</td>\n",
       "      <td>NaN</td>\n",
       "      <td>NaN</td>\n",
       "      <td>NaN</td>\n",
       "      <td>NaN</td>\n",
       "      <td>NaN</td>\n",
       "      <td>NaN</td>\n",
       "      <td>NaN</td>\n",
       "      <td>NaN</td>\n",
       "      <td>NaN</td>\n",
       "      <td>NaN</td>\n",
       "      <td>2015</td>\n",
       "    </tr>\n",
       "  </tbody>\n",
       "</table>\n",
       "</div>"
      ],
      "text/plain": [
       "  Innings Player Innings Runs Scored  Innings Runs Scored Num Innings Minutes Batted  Innings Batted Flag  Innings Not Out Flag  Innings Balls Faced Innings Boundary Fours Innings Boundary Sixes Innings Batting Strike Rate Innings Number  Opposition     Ground Innings Date  Country  50's  100's Innings Runs Scored Buckets Innings Overs Bowled  Innings Bowled Flag Innings Maidens Bowled Innings Runs Conceded Innings Wickets Taken  4 Wickets  5 Wickets  10 Wickets Innings Wickets Taken Buckets Innings Economy Rate  year\n",
       "1  AN Cook        263                 263                      836                    1.0                  0.0                   528                  18                     0                      49.81                       2              v Pakistan  Abu Dhabi 2015-10-13    England  0.0   1.0    200+                        NaN                 NaN                   NaN                    NaN                   NaN                  NaN        NaN        NaN          NaN                           NaN                  2015"
      ]
     },
     "execution_count": 212,
     "metadata": {},
     "output_type": "execute_result"
    }
   ],
   "source": [
    "virat_df = df[df['year'] >= 2012]\n",
    "virat_df.head(1)"
   ]
  },
  {
   "cell_type": "code",
   "execution_count": 213,
   "metadata": {},
   "outputs": [
    {
     "data": {
      "text/html": [
       "<div>\n",
       "<style scoped>\n",
       "    .dataframe tbody tr th:only-of-type {\n",
       "        vertical-align: middle;\n",
       "    }\n",
       "\n",
       "    .dataframe tbody tr th {\n",
       "        vertical-align: top;\n",
       "    }\n",
       "\n",
       "    .dataframe thead th {\n",
       "        text-align: right;\n",
       "    }\n",
       "</style>\n",
       "<table border=\"1\" class=\"dataframe\">\n",
       "  <thead>\n",
       "    <tr style=\"text-align: right;\">\n",
       "      <th></th>\n",
       "      <th>Innings Player</th>\n",
       "      <th>Innings Runs Scored</th>\n",
       "      <th>Innings Runs Scored Num</th>\n",
       "      <th>Innings Minutes Batted</th>\n",
       "      <th>Innings Batted Flag</th>\n",
       "      <th>Innings Not Out Flag</th>\n",
       "      <th>Innings Balls Faced</th>\n",
       "      <th>Innings Boundary Fours</th>\n",
       "      <th>Innings Boundary Sixes</th>\n",
       "      <th>Innings Batting Strike Rate</th>\n",
       "      <th>Innings Number</th>\n",
       "      <th>Opposition</th>\n",
       "      <th>Ground</th>\n",
       "      <th>Innings Date</th>\n",
       "      <th>Country</th>\n",
       "      <th>50's</th>\n",
       "      <th>100's</th>\n",
       "      <th>Innings Runs Scored Buckets</th>\n",
       "      <th>Innings Overs Bowled</th>\n",
       "      <th>Innings Bowled Flag</th>\n",
       "      <th>Innings Maidens Bowled</th>\n",
       "      <th>Innings Runs Conceded</th>\n",
       "      <th>Innings Wickets Taken</th>\n",
       "      <th>4 Wickets</th>\n",
       "      <th>5 Wickets</th>\n",
       "      <th>10 Wickets</th>\n",
       "      <th>Innings Wickets Taken Buckets</th>\n",
       "      <th>Innings Economy Rate</th>\n",
       "      <th>year</th>\n",
       "    </tr>\n",
       "  </thead>\n",
       "  <tbody>\n",
       "    <tr>\n",
       "      <th>1</th>\n",
       "      <td>AN Cook</td>\n",
       "      <td>263</td>\n",
       "      <td>263</td>\n",
       "      <td>836</td>\n",
       "      <td>1.0</td>\n",
       "      <td>0.0</td>\n",
       "      <td>528</td>\n",
       "      <td>18</td>\n",
       "      <td>0</td>\n",
       "      <td>49.81</td>\n",
       "      <td>2</td>\n",
       "      <td>v Pakistan</td>\n",
       "      <td>Abu Dhabi</td>\n",
       "      <td>2015-10-13</td>\n",
       "      <td>England</td>\n",
       "      <td>0.0</td>\n",
       "      <td>1.0</td>\n",
       "      <td>200+</td>\n",
       "      <td>NaN</td>\n",
       "      <td>NaN</td>\n",
       "      <td>NaN</td>\n",
       "      <td>NaN</td>\n",
       "      <td>NaN</td>\n",
       "      <td>NaN</td>\n",
       "      <td>NaN</td>\n",
       "      <td>NaN</td>\n",
       "      <td>NaN</td>\n",
       "      <td>NaN</td>\n",
       "      <td>2015</td>\n",
       "    </tr>\n",
       "  </tbody>\n",
       "</table>\n",
       "</div>"
      ],
      "text/plain": [
       "  Innings Player Innings Runs Scored  Innings Runs Scored Num Innings Minutes Batted  Innings Batted Flag  Innings Not Out Flag  Innings Balls Faced Innings Boundary Fours Innings Boundary Sixes Innings Batting Strike Rate Innings Number  Opposition     Ground Innings Date  Country  50's  100's Innings Runs Scored Buckets Innings Overs Bowled  Innings Bowled Flag Innings Maidens Bowled Innings Runs Conceded Innings Wickets Taken  4 Wickets  5 Wickets  10 Wickets Innings Wickets Taken Buckets Innings Economy Rate  year\n",
       "1  AN Cook        263                 263                      836                    1.0                  0.0                   528                  18                     0                      49.81                       2              v Pakistan  Abu Dhabi 2015-10-13    England  0.0   1.0    200+                        NaN                 NaN                   NaN                    NaN                   NaN                  NaN        NaN        NaN          NaN                           NaN                  2015"
      ]
     },
     "execution_count": 213,
     "metadata": {},
     "output_type": "execute_result"
    }
   ],
   "source": [
    "root_df = df[df['year'] >= 2013]\n",
    "root_df.head(1)"
   ]
  },
  {
   "cell_type": "code",
   "execution_count": 214,
   "metadata": {},
   "outputs": [
    {
     "data": {
      "text/plain": [
       "array(['AN Cook', 'BA Stokes', 'JE Root', 'IR Bell', 'KP Pietersen',\n",
       "       'IJL Trott', 'RWT Key', 'ME Trescothick', 'PD Collingwood',\n",
       "       'GP Thorpe', 'MP Vaughan', 'AJ Strauss', 'MA Butcher', 'SCJ Broad',\n",
       "       'JM Bairstow', 'A Flintoff', 'GS Ballance', 'MM Ali', 'N Hussain',\n",
       "       'KK Jennings', 'RS Bopara', 'DJ Malan', 'CR Woakes', 'OJ Pope',\n",
       "       'DP Sibley', 'MR Ramprakash', 'RJ Burns', 'MJ Prior', 'EJG Morgan',\n",
       "       'SD Robson', 'AJ Stewart', 'C White', 'NRD Compton', 'A Lyth',\n",
       "       'BT Foakes', 'JC Buttler', 'TR Ambrose', 'JP Crawley', 'GO Jones',\n",
       "       'AD Hales', 'JL Denly', 'MJ Leach', 'TT Bresnan', 'OA Shah',\n",
       "       'GP Swann', 'JM Vince', 'H Hameed', 'A McGrath', 'JM Anderson',\n",
       "       'SM Curran', 'JWA Taylor', 'JJ Roy', 'LA Dawson', 'Z Crawley',\n",
       "       'ET Smith', 'AU Rashid', 'MA Carberry', 'MD Stoneman', 'AF Giles',\n",
       "       'T Westley', 'MA Atherton', 'DM Bess', 'ST Finn', 'BM Duckett',\n",
       "       'LE Plunkett', 'R Clarke', 'CMW Read', 'U Afzaal', 'DG Cork',\n",
       "       'MA Wood', 'AR Caddick', 'SJ Harmison', 'JS Foster', 'SP Jones',\n",
       "       'SR Patel', 'C Overton', 'D Gough', 'IJ Ward', 'TK Curran',\n",
       "       'GJ Batty', 'MJ Hoggard', 'JC Tredwell', 'CJ Jordan', 'SI Mahmood',\n",
       "       'RDB Croft', 'SD Udal', 'ZS Ansari', 'RJ Sidebottom', 'JT Ball',\n",
       "       'JC Archer', 'RL Johnson', 'MS Panesar', 'CT Tremlett',\n",
       "       'TS Roland-Jones', 'AJ Tudor', 'J Lewis', 'RKJ Dawson', 'OP Stone',\n",
       "       'J Ormond', 'G Onions', 'GA Hick', 'NV Knight', 'MP Bicknell',\n",
       "       'DJ Pattinson', 'WB Rankin', 'RJ Kirtley', 'CEW Silverwood',\n",
       "       'Kabir Ali', 'PCR Tufnell', 'A Shahzad', 'ID Blackwell',\n",
       "       'SG Borthwick', 'MS Crane', 'SC Kerrigan', 'MJ Saggers',\n",
       "       'AD Mullally', 'ML Hayden', 'DA Warner', 'MJ Clarke', 'AC Voges',\n",
       "       'RT Ponting', 'JL Langer', 'SPD Smith', 'M Labuschagne',\n",
       "       'AC Gilchrist', 'BJ Hodge', 'JN Gillespie', 'MEK Hussey',\n",
       "       'MT Renshaw', 'SE Marsh', 'MR Marsh', 'JA Burns', 'DS Lehmann',\n",
       "       'SR Watson', 'UT Khawaja', 'CJL Rogers', 'BJ Haddin', 'DR Martyn',\n",
       "       'A Symonds', 'TM Head', 'PJ Hughes', 'SR Waugh', 'SM Katich',\n",
       "       'PA Jaques', 'EJM Cowan', 'MJ North', 'MG Johnson', 'ME Waugh',\n",
       "       'MS Wade', 'KR Patterson', 'PSP Handscomb', 'GJ Maxwell',\n",
       "       'ML Love', 'SK Warne', 'MA Starc', 'AC Agar', 'MJ Slater',\n",
       "       'TD Paine', 'AJ Doolan', 'CT Bancroft', 'MC Henriques', 'GB Hogg',\n",
       "       'MS Harris', 'NM Hauritz', 'RJ Harris', 'AJ Bichel', 'AB McDonald',\n",
       "       'PM Nevill', 'B Lee', 'PJ Cummins', 'AJ Finch', 'GD McGrath',\n",
       "       'BW Hilfenhaus', 'GJ Bailey', 'PM Siddle', 'JL Pattinson',\n",
       "       'NM Lyon', 'CL White', 'SR Clark', 'JR Hazlewood', 'CR Miller',\n",
       "       'NW Bracken', 'HWR Cartwright', 'JJ Krejza', 'JW Hastings',\n",
       "       'SCG MacGill', \"SNJ O'Keefe\", 'TA Copeland', 'MS Kasprowicz',\n",
       "       'JP Faulkner', 'NJ Maddinson', 'DE Bollinger', 'JM Bird',\n",
       "       'XJ Doherty', 'GA Manou', 'BA Williams', 'B Casson', 'CJ McKay',\n",
       "       'JM Mennie', 'RJ Quiney', 'SW Tait', 'DW Fleming', 'CJ Ferguson',\n",
       "       'JM Holland', 'MA Beer', 'BE McGain', 'PR George', 'MTG Elliott',\n",
       "       'JA Richardson', 'CJ Sayers', 'HM Amla', 'AB de Villiers',\n",
       "       'GC Smith', 'HH Gibbs', 'ND McKenzie', 'JH Kallis', 'JA Rudolph',\n",
       "       'G Kirsten', 'D Elgar', 'AN Petersen', 'HH Dippenaar', 'JP Duminy',\n",
       "       'AJ Hall', 'AG Prince', 'AK Markram', 'F du Plessis',\n",
       "       'DJ Cullinan', 'Q de Kock', 'MV Boucher', 'SC Cook', 'SM Pollock',\n",
       "       'L Klusener', 'T Bavuma', 'S van Zyl', 'TB de Bruyn',\n",
       "       'HE van der Dussen', 'RJ Peterson', 'PJ Malan', 'Z de Bruyn',\n",
       "       'N Boje', 'DW Steyn', 'VD Philander', 'M van Jaarsveld',\n",
       "       'KA Maharaj', 'CH Morris', 'Zubayr Hamza', 'M Zondeki',\n",
       "       'JA Morkel', 'DL Piedt', 'JM Kemp', 'S Muthusamy', 'PL Harris',\n",
       "       'M Morkel', 'A Nortje', 'D Paterson', 'AA Donald', 'GF Linde',\n",
       "       'D Pretorius', 'PR Adams', 'A Nel', 'K Rabada', 'HG Kuhn',\n",
       "       'R McLaren', 'M Ntini', 'JL Ontong', 'CW Henderson', 'Imran Tahir',\n",
       "       'DJ Vilas', 'J Botha', 'WD Parnell', 'TL Tsolekile', 'GC Viljoen',\n",
       "       'I Khan', 'F de Wet', 'T Shamsi', 'RK Kleinveldt', 'KJ Abbott',\n",
       "       'M Hayward', 'SR Harmer', 'D Olivier', 'AC Dawson',\n",
       "       'CK Langeveldt', 'M de Lange', 'AL Phehlukwayo', 'PWA Mulder',\n",
       "       'LL Tsotsobe', 'S Elworthy', 'H Klaasen', 'BE Hendricks',\n",
       "       'L Ngidi', 'DJ Terbrugge', 'BC Lara', 'CH Gayle', 'RR Sarwan',\n",
       "       'MN Samuels', 'CL Hooper', 'DM Bravo', 'WW Hinds', 'KC Brathwaite',\n",
       "       'S Chanderpaul', 'JO Holder', 'D Ramdin', 'SD Hope', 'RL Chase',\n",
       "       'D Ganga', 'KOA Powell', 'SO Dowrich', 'KA Edwards', 'RD Jacobs',\n",
       "       'BP Nash', 'DJ Bravo', 'J Blackwood', 'SSJ Brooks', 'DS Smith',\n",
       "       'JE Taylor', 'DJG Sammy', 'DR Smith', 'AB Barath', 'TM Dowlin',\n",
       "       'TL Best', 'OJ Phillips', 'SO Hetmyer', 'XM Marshall', 'RO Hinds',\n",
       "       'N Deonarine', 'SL Campbell', 'RS Morton', 'DM Richards',\n",
       "       'DE Bernard', 'CR Brathwaite', 'MV Nagamootoo', 'CS Baugh',\n",
       "       'CO Browne', 'VC Drakes', 'LR Johnson', 'AB Fudadin',\n",
       "       'JD Campbell', 'S Shillingford', 'D Mohammed', 'OAC Banks',\n",
       "       'LMP Simmons', 'KMA Paul', 'S Chattergoon', 'SC Joseph',\n",
       "       'D Bishoo', 'SC Williams', 'M Dillon', 'KA Hope', 'SW Ambris',\n",
       "       'SJ Benn', 'KAJ Roach', 'JA Warrican', 'R Rampaul', 'RN Lewis',\n",
       "       'R Chandrika', 'DBL Powell', 'D Ramnarine', 'DJ Pagon',\n",
       "       'AS Joseph', 'NC McGarrell', 'IDR Bradshaw', 'VA Singh',\n",
       "       'FH Edwards', 'RA Reifer', 'LV Garrick', 'FL Reifer', 'ML Cummins',\n",
       "       'PT Collins', 'GC Tonge', 'V Permaul', 'RL Powell', 'RR Ramdass',\n",
       "       'SP Narine', 'ST Gabriel', 'BA Parchment', 'SH Lewis', 'RA Austin',\n",
       "       'A Sanford', 'LS Baker', 'CD Collymore', 'NAM McLean', 'CE Cuffy',\n",
       "       'JJC Lawson', 'RRS Cornwall', 'CEL Stuart', 'BJ Bess', 'JC Adams',\n",
       "       'CAK Walton', 'NT Pascal', 'DM Washington', 'MI Black',\n",
       "       'GR Breese', 'RD King', 'NO Miller', 'SS Cottrell', 'JN Hamilton',\n",
       "       'CA Walsh', 'AD Russell', 'JR Murray', 'AS Jaggernauth',\n",
       "       'KK Peters', 'BB McCullum', 'LRPL Taylor', 'SP Fleming',\n",
       "       'TWM Latham', 'KS Williamson', 'L Vincent', 'NJ Astle',\n",
       "       'BJ Watling', 'MS Sinclair', 'JD Ryder', 'MJ Guptill',\n",
       "       'HD Rutherford', 'SB Styris', 'HM Nicholls', 'HJH Marshall',\n",
       "       'CL Cairns', 'MH Richardson', 'DL Vettori', 'JDS Neesham',\n",
       "       'TG McIntosh', 'PG Fulton', 'JDP Oram', 'JA Raval', 'MJ Santner',\n",
       "       'JEC Franklin', 'TA Blundell', 'CJ Anderson', 'AC Parore',\n",
       "       'DG Brownlie', 'MD Bell', 'CD McMillan', 'C de Grandhomme',\n",
       "       'DR Flynn', 'JM How', 'L Ronchi', 'MHW Papps', 'AJ Redmond',\n",
       "       'DR Tuffey', 'TG Southee', 'CD Cumming', 'DJ Mitchell',\n",
       "       'CZ Harris', 'CFK van Wyk', 'MD Craig', 'MJ Henry', 'IS Sodhi',\n",
       "       'RG Hart', 'KD Mills', 'RA Young', 'TA Boult', 'JAH Marshall',\n",
       "       'GD Phillips', 'KA Jamieson', 'DAJ Bracewell', 'JS Patel',\n",
       "       'N Wagner', 'MJ Horne', 'PJ Ingram', 'SE Bond', 'BP Martin',\n",
       "       'WER Somerville', 'PJ Wiseman', 'TD Astle', \"IE O'Brien\",\n",
       "       'MR Gillespie', 'IG Butler', 'DJ Nash', 'GD Elliott', 'AJ McKay',\n",
       "       'NT Broom', 'RJ Nicol', 'RA Jones', 'BGK Walker', 'GJ Hopkins',\n",
       "       'C Munro', 'AY Patel', 'CS Martin', 'AR Adams', 'BJ Arnel',\n",
       "       'CJ Drum', 'HK Bennett', 'MJ Mason', 'LH Ferguson', 'GE Bradburn',\n",
       "       'V Sehwag', 'KK Nair', 'VVS Laxman', 'R Dravid', 'V Kohli',\n",
       "       'SR Tendulkar', 'MA Agarwal', 'SC Ganguly', 'MS Dhoni', 'W Jaffer',\n",
       "       'RG Sharma', 'CA Pujara', 'G Gambhir', 'KL Rahul', 'S Dhawan',\n",
       "       'AM Rahane', 'Yuvraj Singh', 'M Vijay', 'RR Pant', 'M Kaif',\n",
       "       'PP Shaw', 'KD Karthik', 'R Ashwin', 'SK Raina', 'WP Saha',\n",
       "       'A Ratra', 'Harbhajan Singh', 'GH Vihari', 'A Kumble',\n",
       "       'AB Agarkar', 'HH Pandya', 'SS Das', 'J Yadav', 'IK Pathan',\n",
       "       'SB Bangar', 'RA Jadeja', 'D Dasgupta', 'A Mishra', 'A Mukund',\n",
       "       'STR Binny', 'Z Khan', 'PA Patel', 'B Kumar', 'S Ramesh',\n",
       "       'A Chopra', 'I Sharma', 'S Badrinath', 'Mohammed Shami',\n",
       "       'SS Dighe', 'J Srinath', 'A Mithun', 'P Kumar', 'Sarandeep Singh',\n",
       "       'HK Badani', 'S Sreesanth', 'NV Ojha', 'L Balaji', 'UT Yadav',\n",
       "       'RP Singh', 'VRV Singh', 'NR Mongia', 'Kuldeep Yadav',\n",
       "       'IR Siddiqui', 'M Kartik', 'SV Bahutule', 'BKV Prasad', 'A Nehra',\n",
       "       'PP Ojha', 'MM Patel', 'JJ Bumrah', 'Pankaj Singh', 'VR Aaron',\n",
       "       'T Yohannan', 'RR Powar', 'Harvinder Singh', 'R Vinay Kumar',\n",
       "       'KV Sharma', 'SN Thakur', 'SLV Raju', 'NM Kulkarni', 'PP Chawla',\n",
       "       'RL Sanghvi', 'JD Unadkat', 'S Nadeem', 'Inzamam-ul-Haq',\n",
       "       'Younis Khan', 'Azhar Ali', 'Shoaib Malik', 'Taufeeq Umar',\n",
       "       'Mohammad Hafeez', 'Mohammad Yousuf', 'Ahmed Shehzad', 'Abid Ali',\n",
       "       'Yasir Hameed', 'Fawad Alam', 'Misbah-ul-Haq', 'Kamran Akmal',\n",
       "       'Shahid Afridi', 'Rashid Latif', 'Haris Sohail', 'Khurram Manzoor',\n",
       "       'Babar Azam', 'Faisal Iqbal', 'Moin Khan', 'Asad Shafiq',\n",
       "       'Shan Masood', 'Abdul Razzaq', 'Umar Akmal', 'Imran Farhat',\n",
       "       'Imran Nazir', 'Salman Butt', 'Yasir Shah', 'Sarfaraz Ahmed',\n",
       "       'Saqlain Mushtaq', 'Saeed Anwar', 'Asim Kamal', 'Mohammad Rizwan',\n",
       "       'Fakhar Zaman', 'Sami Aslam', 'Zulqarnain Haider', 'Faheem Ashraf',\n",
       "       'Imam-ul-Haq', 'Hasan Raza', 'Umar Gul', 'Sohail Khan',\n",
       "       'Adnan Akmal', 'Abdur Rehman', 'Tanvir Ahmed', 'Zulfiqar Babar',\n",
       "       'Shadab Khan', 'Shadab Kabir', 'Yasir Arafat', 'Saeed Ajmal',\n",
       "       'Mohammad Sami', 'Mohammad Amir', 'Shoaib Akhtar', 'Nasir Jamshed',\n",
       "       'Naved-ul-Hasan', 'Shahid Nazir', 'Sharjeel Khan', 'Saleem Elahi',\n",
       "       'Wahab Riaz', 'Azhar Mahmood', 'Wasim Akram', 'Rahat Ali',\n",
       "       'Umar Amin', 'Usman Salahuddin', 'Bilawal Bhatti', 'Abdur Rauf',\n",
       "       'Danish Kaneria', 'Mohammad Asif', 'Hasan Ali', 'Mohammad Abbas',\n",
       "       'Humayun Farhat', 'Waqar Younis', 'Iftikhar Ahmed', 'Farhan Adil',\n",
       "       'Fazl-e-Akbar', 'Mohammad Ayub', 'Mohammad Nawaz (3)',\n",
       "       'Shabbir Ahmed', 'Bazid Khan', 'Naved Latif', 'Mushtaq Ahmed',\n",
       "       'Mohammad Talha', 'Ijaz Ahmed', 'Junaid Khan', 'Bilal Asif',\n",
       "       'Mohammad Irfan', 'Shaheen Shah Afridi', 'Sohail Tanvir',\n",
       "       'Mohammad Salman', 'Muhammad Musa', 'Ehsan Adil', 'Iftikhar Anjum',\n",
       "       'Riaz Afridi', 'Naseem Shah', 'Imran Khan', 'Mohammad Khalil',\n",
       "       'Mir Hamza', 'Mohammad Akram', 'Yasir Ali', 'Arshad Khan',\n",
       "       'Aizaz Cheema', 'Mohammad Zahid', 'DPMD Jayawardene',\n",
       "       'KC Sangakkara', 'ST Jayasuriya', 'MS Atapattu', 'TT Samaraweera',\n",
       "       'PA de Silva', 'HP Tillakaratne', 'AD Mathews', 'FDM Karunaratne',\n",
       "       'BKG Mendis', 'TM Dilshan', 'DM de Silva', 'WU Tharanga',\n",
       "       'LD Chandimal', 'HDRL Thirimanne', 'HAPW Jayawardene',\n",
       "       'MDKJ Perera', 'LPC Silva', 'MG Vandort', 'JK Silva',\n",
       "       'SM Warnapura', 'DAS Gunaratne', 'NT Paranavitana', 'RP Arnold',\n",
       "       'ARS Silva', 'KDK Vithanage', 'BOP Fernando', 'WPUJC Vaas',\n",
       "       'CK Kapugedera', 'MDK Perera', 'UDU Chandana', 'N Dickwella',\n",
       "       'HMRKB Herath', 'MN Nawaz', 'BAW Mendis', 'RS Kaluwitharana',\n",
       "       'NLTC Perera', 'MF Maharoof', 'TAM Siriwardana', 'M Muralitharan',\n",
       "       'KMDN Kulasekara', 'SL Malinga', 'MD Gunathilaka',\n",
       "       'HDPK Dharmasena', 'KADM Fernando', 'J Mubarak',\n",
       "       'UWMBCA Welegedara', 'KTGD Prasad', 'RMS Eranga', 'TCB Fernando',\n",
       "       'A Dananjaya', 'HMCM Bandara', 'PM Pushpakumara', 'RAS Lakmal',\n",
       "       'MKGCP Lakshitha', 'CRD Fernando', 'S Randiv', 'S Samarawickrama',\n",
       "       'MVT Fernando', 'KS Lokuarachchi', 'DNT Zoysa', 'MDUS Jayasundera',\n",
       "       'MRCN Bandaratilleke', 'DA Gunawardene', 'PADLR Sandakan',\n",
       "       'KHRK Fernando', 'L Embuldeniya', 'C Karunaratne',\n",
       "       'GP Wickramasinghe', 'PVD Chameera', 'ML Udawatte', 'ASA Perera',\n",
       "       'PHT Kaushal', 'N Pradeep', 'MD Shanaka', 'T Thushara',\n",
       "       'CKB Kulasekara', 'G Wijekoon', 'RAP Nissanka', 'CAK Rajitha',\n",
       "       'PDRL Perera', 'CBRLS Kumara', 'S Kalavitigoda', 'WRS de Silva',\n",
       "       'S Prasanna', 'SMSM Senanayake', 'DK Liyanage', 'KEA Upashantha',\n",
       "       'PLS Gamage', 'D Hettiarachchi', 'MKDI Amerasinghe', 'A Flower',\n",
       "       'BRM Taylor', 'TMK Mawoyo', 'CR Ervine', 'H Masakadza', 'T Taibu',\n",
       "       'HH Streak', 'Sikandar Raza', 'GJ Whittall', 'SV Carlisle',\n",
       "       'MA Vermeulen', 'CB Wishart', 'TR Gripper', 'ADR Campbell',\n",
       "       'AG Cremer', 'RW Chakabva', 'DD Ebrahim', 'V Sibanda',\n",
       "       'AM Blignaut', 'E Chigumbura', 'GW Flower', 'SM Ervine', 'PJ Moor',\n",
       "       'TJ Friend', 'BB Chari', 'DA Marillier', 'MN Waller', 'GM Ewing',\n",
       "       'GJ Rennie', 'PS Masvaure', 'KT Kasuza', 'CJ Chibhabha',\n",
       "       'S Matsikenyeri', 'T Duffin', 'NB Mahwire', 'DT Tiripano',\n",
       "       'ML Nkala', 'SF Mire', 'P Utseya', 'R Mutumbami', 'T Maruma',\n",
       "       'T Panyangara', 'GA Lamb', 'PA Strang', 'CK Coventry', 'RW Price',\n",
       "       'KM Dabengwa', 'CB Mpofu', 'CT Mutombodzi', 'KO Meth', 'BA Murphy',\n",
       "       'BG Rogers', 'A Maregwede', 'KM Jarvis', 'GB Brent',\n",
       "       'SW Masakadza', 'CN Evans', 'TL Chatara', 'BC Strang', 'BV Vitori',\n",
       "       'DT Hondo', 'HK Olonga', 'F Mutizwa', 'WP Masakadza',\n",
       "       'NR Ferreira', 'RP Burl', 'BS Mudzinganyama', 'W Mwayenga',\n",
       "       'T Mupariwa', 'N Ncube', 'J Nyumbu', 'CT Mumba', 'VM Nyauchi',\n",
       "       'B Muzarabani', 'TS Chisoro', \"N M'shangwe\", 'TK Musakanda',\n",
       "       'B Mavuta', 'TP Kamungozi', 'A Ndlovu', 'BT Watambwa', 'CK Tshuma',\n",
       "       'MT Chinouya', 'Mushfiqur Rahim', 'Shakib Al Hasan', 'Tamim Iqbal',\n",
       "       'Mohammad Ashraful', 'Mominul Haque', 'Imrul Kayes',\n",
       "       'Soumya Sarkar', 'Mahmudullah', 'Shahriar Nafees', 'Nafees Iqbal',\n",
       "       'Javed Omar', 'Habibul Bashar', 'Abul Hasan', 'Mohammad Rafique',\n",
       "       'Naeem Islam', 'Junaid Siddique', 'Shamsur Rahman',\n",
       "       'Khaled Mashud', 'Sohag Gazi', 'Nasir Hossain', 'Liton Das',\n",
       "       'Rajin Saleh', 'Alok Kapali', 'Aminul Islam', 'Mehrab Hossain jnr',\n",
       "       'Aftab Ahmed', 'Mashrafe Mortaza', 'Nazimuddin', 'Hannan Sarkar',\n",
       "       'Shadman Islam', 'Mosaddek Hossain', 'Mehrab Hossain',\n",
       "       'Al Sahariar', 'Najmul Hossain Shanto', 'Manjural Islam Rana',\n",
       "       'Mehidy Hasan Miraz', 'Mohammad Mithun', 'Tapash Baisya',\n",
       "       'Sabbir Rahman', 'Raqibul Hasan', 'Nurul Hasan', 'Shafiul Islam',\n",
       "       'Shuvagata Hom', 'Sanwar Hossain', 'Naimur Rahman',\n",
       "       'Shahriar Hossain', 'Jahurul Islam', 'Mushfiqur Rahman',\n",
       "       'Rubel Hossain', 'Khaled Mahmud', 'Akram Khan', 'Abdur Razzak',\n",
       "       'Ariful Haque', 'Marshall Ayub', 'Shahadat Hossain',\n",
       "       'Taijul Islam', 'Fahim Muntasir', 'Robiul Islam', 'Taskin Ahmed',\n",
       "       'Al-Amin Hossain', 'Hasibul Hossain', 'Talha Jubair',\n",
       "       'Tushar Imran', 'Mohammad Salim', 'Nayeem Hasan',\n",
       "       'Kamrul Islam Rabbi', 'Mohammad Shahid', 'Enamul Haque',\n",
       "       'Mohammad Sharif', 'Sunzamul Islam', 'Anamul Haque',\n",
       "       'Manjural Islam', 'Elias Sunny', 'Syed Rasel', 'Mustafizur Rahman',\n",
       "       'Saif Hassan', 'Sohrawordi Shuvo', 'Ziaur Rahman',\n",
       "       'Anwar Hossain Monir', 'Enamul Haque jnr', 'Subashis Roy',\n",
       "       'Anwar Hossain', 'Tareq Aziz', 'Nazmul Hossain', 'Jubair Hossain',\n",
       "       'Abu Jayed', 'Rafiqul Islam', 'Sajedul Islam', 'Ehsanul Haque',\n",
       "       'Faisal Hossain', 'Khaled Ahmed', 'Alamgir Kabir', 'Nazmul Islam',\n",
       "       'Mahbubul Alam', 'Ebadat Hossain', \"KJ O'Brien\", 'A Balbirnie',\n",
       "       'TJ Murtagh', 'SR Thompson', 'EC Joyce', 'GH Dockrell',\n",
       "       'JA McCollum', 'PR Stirling', 'GC Wilson', 'J Cameron-Dow',\n",
       "       'WTS Porterfield', \"NJ O'Brien\", 'TE Kane', 'AR McBrine',\n",
       "       'MR Adair', 'SW Poynter'], dtype=object)"
      ]
     },
     "execution_count": 214,
     "metadata": {},
     "output_type": "execute_result"
    }
   ],
   "source": [
    "df['Innings Player'].unique()"
   ]
  },
  {
   "cell_type": "markdown",
   "metadata": {},
   "source": [
    "# Parameters we are going to calculate"
   ]
  },
  {
   "cell_type": "raw",
   "metadata": {},
   "source": [
    "1. Runs per innings\n",
    "2. Strike Rate\n",
    "3. 100's\n",
    "4. consistency\n",
    "5. Team contribution"
   ]
  },
  {
   "cell_type": "code",
   "execution_count": 215,
   "metadata": {},
   "outputs": [
    {
     "data": {
      "text/plain": [
       "406"
      ]
     },
     "execution_count": 215,
     "metadata": {},
     "output_type": "execute_result"
    }
   ],
   "source": [
    "vdf = virat_df[virat_df['Innings Player'] == 'V Kohli']\n",
    "len(vdf)"
   ]
  },
  {
   "cell_type": "code",
   "execution_count": 216,
   "metadata": {},
   "outputs": [
    {
     "data": {
      "text/plain": [
       "136"
      ]
     },
     "execution_count": 216,
     "metadata": {},
     "output_type": "execute_result"
    }
   ],
   "source": [
    "vdf = vdf.drop_duplicates(subset=['Innings Date','Innings Number'])\n",
    "len(vdf)"
   ]
  },
  {
   "cell_type": "code",
   "execution_count": 217,
   "metadata": {},
   "outputs": [
    {
     "data": {
      "text/html": [
       "<div>\n",
       "<style scoped>\n",
       "    .dataframe tbody tr th:only-of-type {\n",
       "        vertical-align: middle;\n",
       "    }\n",
       "\n",
       "    .dataframe tbody tr th {\n",
       "        vertical-align: top;\n",
       "    }\n",
       "\n",
       "    .dataframe thead th {\n",
       "        text-align: right;\n",
       "    }\n",
       "</style>\n",
       "<table border=\"1\" class=\"dataframe\">\n",
       "  <thead>\n",
       "    <tr style=\"text-align: right;\">\n",
       "      <th></th>\n",
       "      <th>Innings Player</th>\n",
       "      <th>Innings Runs Scored</th>\n",
       "      <th>Innings Runs Scored Num</th>\n",
       "      <th>Innings Minutes Batted</th>\n",
       "      <th>Innings Batted Flag</th>\n",
       "      <th>Innings Not Out Flag</th>\n",
       "      <th>Innings Balls Faced</th>\n",
       "      <th>Innings Boundary Fours</th>\n",
       "      <th>Innings Boundary Sixes</th>\n",
       "      <th>Innings Batting Strike Rate</th>\n",
       "      <th>Innings Number</th>\n",
       "      <th>Opposition</th>\n",
       "      <th>Ground</th>\n",
       "      <th>Innings Date</th>\n",
       "      <th>Country</th>\n",
       "      <th>50's</th>\n",
       "      <th>100's</th>\n",
       "      <th>Innings Runs Scored Buckets</th>\n",
       "      <th>Innings Overs Bowled</th>\n",
       "      <th>Innings Bowled Flag</th>\n",
       "      <th>Innings Maidens Bowled</th>\n",
       "      <th>Innings Runs Conceded</th>\n",
       "      <th>Innings Wickets Taken</th>\n",
       "      <th>4 Wickets</th>\n",
       "      <th>5 Wickets</th>\n",
       "      <th>10 Wickets</th>\n",
       "      <th>Innings Wickets Taken Buckets</th>\n",
       "      <th>Innings Economy Rate</th>\n",
       "      <th>year</th>\n",
       "    </tr>\n",
       "  </thead>\n",
       "  <tbody>\n",
       "    <tr>\n",
       "      <th>33587</th>\n",
       "      <td>V Kohli</td>\n",
       "      <td>254*</td>\n",
       "      <td>254</td>\n",
       "      <td>-</td>\n",
       "      <td>1.0</td>\n",
       "      <td>1.0</td>\n",
       "      <td>336</td>\n",
       "      <td>33</td>\n",
       "      <td>2</td>\n",
       "      <td>75.59</td>\n",
       "      <td>1</td>\n",
       "      <td>v South Africa</td>\n",
       "      <td>Pune</td>\n",
       "      <td>2019-10-10</td>\n",
       "      <td>India</td>\n",
       "      <td>0.0</td>\n",
       "      <td>1.0</td>\n",
       "      <td>200+</td>\n",
       "      <td>NaN</td>\n",
       "      <td>NaN</td>\n",
       "      <td>NaN</td>\n",
       "      <td>NaN</td>\n",
       "      <td>NaN</td>\n",
       "      <td>NaN</td>\n",
       "      <td>NaN</td>\n",
       "      <td>NaN</td>\n",
       "      <td>NaN</td>\n",
       "      <td>NaN</td>\n",
       "      <td>2019</td>\n",
       "    </tr>\n",
       "    <tr>\n",
       "      <th>33590</th>\n",
       "      <td>V Kohli</td>\n",
       "      <td>243</td>\n",
       "      <td>243</td>\n",
       "      <td>447</td>\n",
       "      <td>1.0</td>\n",
       "      <td>0.0</td>\n",
       "      <td>287</td>\n",
       "      <td>25</td>\n",
       "      <td>0</td>\n",
       "      <td>84.66</td>\n",
       "      <td>1</td>\n",
       "      <td>v Sri Lanka</td>\n",
       "      <td>Delhi</td>\n",
       "      <td>2017-12-02</td>\n",
       "      <td>India</td>\n",
       "      <td>0.0</td>\n",
       "      <td>1.0</td>\n",
       "      <td>200+</td>\n",
       "      <td>NaN</td>\n",
       "      <td>NaN</td>\n",
       "      <td>NaN</td>\n",
       "      <td>NaN</td>\n",
       "      <td>NaN</td>\n",
       "      <td>NaN</td>\n",
       "      <td>NaN</td>\n",
       "      <td>NaN</td>\n",
       "      <td>NaN</td>\n",
       "      <td>NaN</td>\n",
       "      <td>2017</td>\n",
       "    </tr>\n",
       "  </tbody>\n",
       "</table>\n",
       "</div>"
      ],
      "text/plain": [
       "      Innings Player Innings Runs Scored  Innings Runs Scored Num Innings Minutes Batted  Innings Batted Flag  Innings Not Out Flag  Innings Balls Faced Innings Boundary Fours Innings Boundary Sixes Innings Batting Strike Rate Innings Number      Opposition Ground Innings Date Country  50's  100's Innings Runs Scored Buckets Innings Overs Bowled  Innings Bowled Flag Innings Maidens Bowled Innings Runs Conceded Innings Wickets Taken  4 Wickets  5 Wickets  10 Wickets Innings Wickets Taken Buckets Innings Economy Rate  year\n",
       "33587  V Kohli        254*                254                      -                      1.0                  1.0                   336                  33                     2                      75.59                       1              v South Africa  Pune  2019-10-10    India   0.0   1.0    200+                        NaN                 NaN                   NaN                    NaN                   NaN                  NaN        NaN        NaN          NaN                           NaN                  2019\n",
       "33590  V Kohli        243                 243                      447                    1.0                  0.0                   287                  25                     0                      84.66                       1              v Sri Lanka     Delhi 2017-12-02    India   0.0   1.0    200+                        NaN                 NaN                   NaN                    NaN                   NaN                  NaN        NaN        NaN          NaN                           NaN                  2017"
      ]
     },
     "execution_count": 217,
     "metadata": {},
     "output_type": "execute_result"
    }
   ],
   "source": [
    "vdf.head(2)"
   ]
  },
  {
   "cell_type": "code",
   "execution_count": 218,
   "metadata": {},
   "outputs": [
    {
     "data": {
      "text/plain": [
       "501"
      ]
     },
     "execution_count": 218,
     "metadata": {},
     "output_type": "execute_result"
    }
   ],
   "source": [
    "rdf = root_df[root_df['Innings Player'] == 'JE Root']\n",
    "len(rdf)"
   ]
  },
  {
   "cell_type": "code",
   "execution_count": 219,
   "metadata": {},
   "outputs": [
    {
     "data": {
      "text/plain": [
       "136"
      ]
     },
     "execution_count": 219,
     "metadata": {},
     "output_type": "execute_result"
    }
   ],
   "source": [
    "rdf = rdf.drop_duplicates(subset=['Innings Date','Innings Number'])\n",
    "len(vdf)"
   ]
  },
  {
   "cell_type": "code",
   "execution_count": 220,
   "metadata": {},
   "outputs": [
    {
     "data": {
      "text/html": [
       "<div>\n",
       "<style scoped>\n",
       "    .dataframe tbody tr th:only-of-type {\n",
       "        vertical-align: middle;\n",
       "    }\n",
       "\n",
       "    .dataframe tbody tr th {\n",
       "        vertical-align: top;\n",
       "    }\n",
       "\n",
       "    .dataframe thead th {\n",
       "        text-align: right;\n",
       "    }\n",
       "</style>\n",
       "<table border=\"1\" class=\"dataframe\">\n",
       "  <thead>\n",
       "    <tr style=\"text-align: right;\">\n",
       "      <th></th>\n",
       "      <th>Innings Player</th>\n",
       "      <th>Innings Runs Scored</th>\n",
       "      <th>Innings Runs Scored Num</th>\n",
       "      <th>Innings Minutes Batted</th>\n",
       "      <th>Innings Batted Flag</th>\n",
       "      <th>Innings Not Out Flag</th>\n",
       "      <th>Innings Balls Faced</th>\n",
       "      <th>Innings Boundary Fours</th>\n",
       "      <th>Innings Boundary Sixes</th>\n",
       "      <th>Innings Batting Strike Rate</th>\n",
       "      <th>Innings Number</th>\n",
       "      <th>Opposition</th>\n",
       "      <th>Ground</th>\n",
       "      <th>Innings Date</th>\n",
       "      <th>Country</th>\n",
       "      <th>50's</th>\n",
       "      <th>100's</th>\n",
       "      <th>Innings Runs Scored Buckets</th>\n",
       "      <th>Innings Overs Bowled</th>\n",
       "      <th>Innings Bowled Flag</th>\n",
       "      <th>Innings Maidens Bowled</th>\n",
       "      <th>Innings Runs Conceded</th>\n",
       "      <th>Innings Wickets Taken</th>\n",
       "      <th>4 Wickets</th>\n",
       "      <th>5 Wickets</th>\n",
       "      <th>10 Wickets</th>\n",
       "      <th>Innings Wickets Taken Buckets</th>\n",
       "      <th>Innings Economy Rate</th>\n",
       "      <th>year</th>\n",
       "    </tr>\n",
       "  </thead>\n",
       "  <tbody>\n",
       "    <tr>\n",
       "      <th>3</th>\n",
       "      <td>JE Root</td>\n",
       "      <td>254</td>\n",
       "      <td>254</td>\n",
       "      <td>614</td>\n",
       "      <td>1.0</td>\n",
       "      <td>0.0</td>\n",
       "      <td>406</td>\n",
       "      <td>27</td>\n",
       "      <td>0</td>\n",
       "      <td>62.56</td>\n",
       "      <td>1</td>\n",
       "      <td>v Pakistan</td>\n",
       "      <td>Manchester</td>\n",
       "      <td>2016-07-22</td>\n",
       "      <td>England</td>\n",
       "      <td>0.0</td>\n",
       "      <td>1.0</td>\n",
       "      <td>200+</td>\n",
       "      <td>NaN</td>\n",
       "      <td>NaN</td>\n",
       "      <td>NaN</td>\n",
       "      <td>NaN</td>\n",
       "      <td>NaN</td>\n",
       "      <td>NaN</td>\n",
       "      <td>NaN</td>\n",
       "      <td>NaN</td>\n",
       "      <td>NaN</td>\n",
       "      <td>NaN</td>\n",
       "      <td>2016</td>\n",
       "    </tr>\n",
       "    <tr>\n",
       "      <th>11</th>\n",
       "      <td>JE Root</td>\n",
       "      <td>226</td>\n",
       "      <td>226</td>\n",
       "      <td>636</td>\n",
       "      <td>1.0</td>\n",
       "      <td>0.0</td>\n",
       "      <td>441</td>\n",
       "      <td>22</td>\n",
       "      <td>1</td>\n",
       "      <td>51.24</td>\n",
       "      <td>2</td>\n",
       "      <td>v New Zealand</td>\n",
       "      <td>Hamilton</td>\n",
       "      <td>2019-11-29</td>\n",
       "      <td>England</td>\n",
       "      <td>0.0</td>\n",
       "      <td>1.0</td>\n",
       "      <td>200+</td>\n",
       "      <td>NaN</td>\n",
       "      <td>NaN</td>\n",
       "      <td>NaN</td>\n",
       "      <td>NaN</td>\n",
       "      <td>NaN</td>\n",
       "      <td>NaN</td>\n",
       "      <td>NaN</td>\n",
       "      <td>NaN</td>\n",
       "      <td>NaN</td>\n",
       "      <td>NaN</td>\n",
       "      <td>2019</td>\n",
       "    </tr>\n",
       "  </tbody>\n",
       "</table>\n",
       "</div>"
      ],
      "text/plain": [
       "   Innings Player Innings Runs Scored  Innings Runs Scored Num Innings Minutes Batted  Innings Batted Flag  Innings Not Out Flag  Innings Balls Faced Innings Boundary Fours Innings Boundary Sixes Innings Batting Strike Rate Innings Number     Opposition      Ground Innings Date  Country  50's  100's Innings Runs Scored Buckets Innings Overs Bowled  Innings Bowled Flag Innings Maidens Bowled Innings Runs Conceded Innings Wickets Taken  4 Wickets  5 Wickets  10 Wickets Innings Wickets Taken Buckets Innings Economy Rate  year\n",
       "3   JE Root        254                 254                      614                    1.0                  0.0                   406                  27                     0                      62.56                       1              v Pakistan     Manchester 2016-07-22    England  0.0   1.0    200+                        NaN                 NaN                   NaN                    NaN                   NaN                  NaN        NaN        NaN          NaN                           NaN                  2016\n",
       "11  JE Root        226                 226                      636                    1.0                  0.0                   441                  22                     1                      51.24                       2              v New Zealand  Hamilton   2019-11-29    England  0.0   1.0    200+                        NaN                 NaN                   NaN                    NaN                   NaN                  NaN        NaN        NaN          NaN                           NaN                  2019"
      ]
     },
     "execution_count": 220,
     "metadata": {},
     "output_type": "execute_result"
    }
   ],
   "source": [
    "rdf.head(2)"
   ]
  },
  {
   "cell_type": "code",
   "execution_count": 221,
   "metadata": {},
   "outputs": [
    {
     "data": {
      "text/plain": [
       "7038"
      ]
     },
     "execution_count": 221,
     "metadata": {},
     "output_type": "execute_result"
    }
   ],
   "source": [
    "# to find RPI \n",
    "sum(vdf['Innings Runs Scored Num'])"
   ]
  },
  {
   "cell_type": "code",
   "execution_count": 222,
   "metadata": {},
   "outputs": [
    {
     "data": {
      "text/plain": [
       "7506"
      ]
     },
     "execution_count": 222,
     "metadata": {},
     "output_type": "execute_result"
    }
   ],
   "source": [
    "sum(rdf['Innings Runs Scored Num'])"
   ]
  },
  {
   "cell_type": "code",
   "execution_count": 223,
   "metadata": {},
   "outputs": [
    {
     "data": {
      "text/plain": [
       "(51.75, 44.946107784431135)"
      ]
     },
     "execution_count": 223,
     "metadata": {},
     "output_type": "execute_result"
    }
   ],
   "source": [
    "# RPI: virat & root\n",
    "sum(vdf['Innings Runs Scored Num'])/len(vdf), sum(rdf['Innings Runs Scored Num'])/len(rdf)"
   ]
  },
  {
   "cell_type": "code",
   "execution_count": 224,
   "metadata": {},
   "outputs": [
    {
     "data": {
      "text/plain": [
       "(58.26641278251511, 55.00512970833944)"
      ]
     },
     "execution_count": 224,
     "metadata": {},
     "output_type": "execute_result"
    }
   ],
   "source": [
    "# SR: virat & root\n",
    "100*sum(vdf['Innings Runs Scored Num'])/sum(vdf['Innings Balls Faced']), 100*sum(rdf['Innings Runs Scored Num'])/sum(rdf['Innings Balls Faced'])"
   ]
  },
  {
   "cell_type": "code",
   "execution_count": 225,
   "metadata": {},
   "outputs": [
    {
     "data": {
      "text/plain": [
       "(27.0, 17.0)"
      ]
     },
     "execution_count": 225,
     "metadata": {},
     "output_type": "execute_result"
    }
   ],
   "source": [
    "# total 100's: virat & root\n",
    "sum(vdf[\"100's\"]), sum(rdf[\"100's\"])"
   ]
  },
  {
   "cell_type": "code",
   "execution_count": 226,
   "metadata": {},
   "outputs": [
    {
     "data": {
      "text/plain": [
       "5.530279814242946"
      ]
     },
     "execution_count": 226,
     "metadata": {},
     "output_type": "execute_result"
    }
   ],
   "source": [
    "#team contribution\n",
    "100*sum(vdf['Innings Runs Scored Num'])/sum(virat_df[virat_df.Country == 'India']['Innings Runs Scored Num'])"
   ]
  },
  {
   "cell_type": "code",
   "execution_count": 227,
   "metadata": {},
   "outputs": [
    {
     "data": {
      "text/plain": [
       "5.325670498084291"
      ]
     },
     "execution_count": 227,
     "metadata": {},
     "output_type": "execute_result"
    }
   ],
   "source": [
    "100*sum(rdf['Innings Runs Scored Num'])/sum(root_df[root_df.Country == 'England']['Innings Runs Scored Num'])"
   ]
  },
  {
   "cell_type": "code",
   "execution_count": null,
   "metadata": {},
   "outputs": [],
   "source": []
  },
  {
   "cell_type": "code",
   "execution_count": 228,
   "metadata": {},
   "outputs": [],
   "source": [
    "# as we know these two players represent two different countries, there may be more factors affecting their runs, so we \n",
    "# consider normalized values of required values"
   ]
  },
  {
   "cell_type": "markdown",
   "metadata": {},
   "source": [
    "# Normalization"
   ]
  },
  {
   "cell_type": "code",
   "execution_count": 229,
   "metadata": {},
   "outputs": [],
   "source": [
    "# for this we should consider other player's(excluding virat and root in their respective countries) runs also "
   ]
  },
  {
   "cell_type": "code",
   "execution_count": 230,
   "metadata": {},
   "outputs": [],
   "source": [
    "non_virat_df = virat_df[virat_df['Innings Player'] != 'V Kohli']"
   ]
  },
  {
   "cell_type": "code",
   "execution_count": 231,
   "metadata": {},
   "outputs": [],
   "source": [
    "non_virat_df = non_virat_df[non_virat_df['Country'] == 'India']"
   ]
  },
  {
   "cell_type": "code",
   "execution_count": 232,
   "metadata": {},
   "outputs": [],
   "source": [
    "# non_virat_df['Innings Player'].unique()"
   ]
  },
  {
   "cell_type": "code",
   "execution_count": 233,
   "metadata": {},
   "outputs": [],
   "source": [
    "non_root_df = root_df[root_df['Innings Player'] != 'JE Root']"
   ]
  },
  {
   "cell_type": "code",
   "execution_count": 234,
   "metadata": {},
   "outputs": [],
   "source": [
    "non_root_df = non_root_df[non_root_df['Country'] == 'England']"
   ]
  },
  {
   "cell_type": "code",
   "execution_count": null,
   "metadata": {},
   "outputs": [],
   "source": []
  },
  {
   "cell_type": "code",
   "execution_count": 235,
   "metadata": {},
   "outputs": [],
   "source": [
    "# 1. RPI "
   ]
  },
  {
   "cell_type": "code",
   "execution_count": 254,
   "metadata": {},
   "outputs": [
    {
     "data": {
      "text/plain": [
       "1.84"
      ]
     },
     "execution_count": 254,
     "metadata": {},
     "output_type": "execute_result"
    }
   ],
   "source": [
    "# virat's rpi/ non-virat's rpi\n",
    "np.round((sum(vdf['Innings Runs Scored Num'])/len(vdf))/(sum(non_virat_df['Innings Runs Scored Num'])/len(non_virat_df)),2)"
   ]
  },
  {
   "cell_type": "code",
   "execution_count": 255,
   "metadata": {},
   "outputs": [
    {
     "data": {
      "text/plain": [
       "1.82"
      ]
     },
     "execution_count": 255,
     "metadata": {},
     "output_type": "execute_result"
    }
   ],
   "source": [
    "# root's rpi/ non-root's rpi\n",
    "np.round((sum(rdf['Innings Runs Scored Num'])/len(rdf))/(sum(non_root_df['Innings Runs Scored Num'])/len(non_root_df)),2)"
   ]
  },
  {
   "cell_type": "code",
   "execution_count": 238,
   "metadata": {},
   "outputs": [],
   "source": [
    "# 2. SR"
   ]
  },
  {
   "cell_type": "code",
   "execution_count": 256,
   "metadata": {},
   "outputs": [
    {
     "data": {
      "text/plain": [
       "1.109"
      ]
     },
     "execution_count": 256,
     "metadata": {},
     "output_type": "execute_result"
    }
   ],
   "source": [
    "# virat's sr/ non-virat's sr\n",
    "np.round((sum(vdf['Innings Runs Scored Num'])/sum(vdf['Innings Balls Faced']))/(sum(non_virat_df['Innings Runs Scored Num'])/sum(non_virat_df['Innings Balls Faced'])),3)"
   ]
  },
  {
   "cell_type": "code",
   "execution_count": 257,
   "metadata": {},
   "outputs": [
    {
     "data": {
      "text/plain": [
       "1.111"
      ]
     },
     "execution_count": 257,
     "metadata": {},
     "output_type": "execute_result"
    }
   ],
   "source": [
    "# root's sr/ non-root's sr\n",
    "np.round((sum(rdf['Innings Runs Scored Num'])/sum(rdf['Innings Balls Faced']))/(sum(non_root_df['Innings Runs Scored Num'])/sum(non_root_df['Innings Balls Faced'])),3)"
   ]
  },
  {
   "cell_type": "code",
   "execution_count": 241,
   "metadata": {},
   "outputs": [],
   "source": [
    "# 3.Number of matches to score 100: lesser the better!!"
   ]
  },
  {
   "cell_type": "code",
   "execution_count": 258,
   "metadata": {},
   "outputs": [
    {
     "data": {
      "text/plain": [
       "0.31"
      ]
     },
     "execution_count": 258,
     "metadata": {},
     "output_type": "execute_result"
    }
   ],
   "source": [
    "# virat's/non-virat's\n",
    "np.round((len(vdf)/sum(vdf[\"100's\"]))/(len(non_virat_df)/sum(non_virat_df[\"100's\"])),2)"
   ]
  },
  {
   "cell_type": "code",
   "execution_count": 259,
   "metadata": {},
   "outputs": [
    {
     "data": {
      "text/plain": [
       "0.34"
      ]
     },
     "execution_count": 259,
     "metadata": {},
     "output_type": "execute_result"
    }
   ],
   "source": [
    "# root's/non-root's\n",
    "np.round((len(rdf)/sum(rdf[\"100's\"]))/(len(non_root_df)/sum(non_root_df[\"100's\"])),2)"
   ]
  },
  {
   "cell_type": "code",
   "execution_count": null,
   "metadata": {},
   "outputs": [],
   "source": []
  },
  {
   "cell_type": "code",
   "execution_count": null,
   "metadata": {},
   "outputs": [],
   "source": []
  },
  {
   "cell_type": "markdown",
   "metadata": {},
   "source": [
    "# Visualizations"
   ]
  },
  {
   "cell_type": "code",
   "execution_count": 244,
   "metadata": {},
   "outputs": [],
   "source": [
    "# 4. Here we are going to see virat's and root's consistency over the years: by graph and by coefficient of variation(std/mean)"
   ]
  },
  {
   "cell_type": "code",
   "execution_count": 245,
   "metadata": {},
   "outputs": [
    {
     "data": {
      "text/html": [
       "<div>\n",
       "<style scoped>\n",
       "    .dataframe tbody tr th:only-of-type {\n",
       "        vertical-align: middle;\n",
       "    }\n",
       "\n",
       "    .dataframe tbody tr th {\n",
       "        vertical-align: top;\n",
       "    }\n",
       "\n",
       "    .dataframe thead th {\n",
       "        text-align: right;\n",
       "    }\n",
       "</style>\n",
       "<table border=\"1\" class=\"dataframe\">\n",
       "  <thead>\n",
       "    <tr style=\"text-align: right;\">\n",
       "      <th></th>\n",
       "      <th>Innings Runs Scored Num</th>\n",
       "      <th>Innings Batted Flag</th>\n",
       "      <th>Innings Not Out Flag</th>\n",
       "      <th>Innings Balls Faced</th>\n",
       "      <th>50's</th>\n",
       "      <th>100's</th>\n",
       "      <th>Innings Bowled Flag</th>\n",
       "      <th>4 Wickets</th>\n",
       "      <th>5 Wickets</th>\n",
       "      <th>10 Wickets</th>\n",
       "      <th>year</th>\n",
       "    </tr>\n",
       "  </thead>\n",
       "  <tbody>\n",
       "    <tr>\n",
       "      <th>count</th>\n",
       "      <td>136.000000</td>\n",
       "      <td>136.0</td>\n",
       "      <td>136.000000</td>\n",
       "      <td>136.000000</td>\n",
       "      <td>136.000000</td>\n",
       "      <td>136.000000</td>\n",
       "      <td>0.0</td>\n",
       "      <td>0.0</td>\n",
       "      <td>0.0</td>\n",
       "      <td>0.0</td>\n",
       "      <td>136.000000</td>\n",
       "    </tr>\n",
       "    <tr>\n",
       "      <th>mean</th>\n",
       "      <td>51.750000</td>\n",
       "      <td>1.0</td>\n",
       "      <td>0.073529</td>\n",
       "      <td>88.816176</td>\n",
       "      <td>0.147059</td>\n",
       "      <td>0.198529</td>\n",
       "      <td>NaN</td>\n",
       "      <td>NaN</td>\n",
       "      <td>NaN</td>\n",
       "      <td>NaN</td>\n",
       "      <td>2015.691176</td>\n",
       "    </tr>\n",
       "    <tr>\n",
       "      <th>std</th>\n",
       "      <td>58.086876</td>\n",
       "      <td>0.0</td>\n",
       "      <td>0.261968</td>\n",
       "      <td>86.134022</td>\n",
       "      <td>0.355474</td>\n",
       "      <td>0.400367</td>\n",
       "      <td>NaN</td>\n",
       "      <td>NaN</td>\n",
       "      <td>NaN</td>\n",
       "      <td>NaN</td>\n",
       "      <td>2.311051</td>\n",
       "    </tr>\n",
       "    <tr>\n",
       "      <th>min</th>\n",
       "      <td>0.000000</td>\n",
       "      <td>1.0</td>\n",
       "      <td>0.000000</td>\n",
       "      <td>1.000000</td>\n",
       "      <td>0.000000</td>\n",
       "      <td>0.000000</td>\n",
       "      <td>NaN</td>\n",
       "      <td>NaN</td>\n",
       "      <td>NaN</td>\n",
       "      <td>NaN</td>\n",
       "      <td>2012.000000</td>\n",
       "    </tr>\n",
       "    <tr>\n",
       "      <th>25%</th>\n",
       "      <td>9.750000</td>\n",
       "      <td>1.0</td>\n",
       "      <td>0.000000</td>\n",
       "      <td>22.750000</td>\n",
       "      <td>0.000000</td>\n",
       "      <td>0.000000</td>\n",
       "      <td>NaN</td>\n",
       "      <td>NaN</td>\n",
       "      <td>NaN</td>\n",
       "      <td>NaN</td>\n",
       "      <td>2014.000000</td>\n",
       "    </tr>\n",
       "    <tr>\n",
       "      <th>50%</th>\n",
       "      <td>30.000000</td>\n",
       "      <td>1.0</td>\n",
       "      <td>0.000000</td>\n",
       "      <td>60.500000</td>\n",
       "      <td>0.000000</td>\n",
       "      <td>0.000000</td>\n",
       "      <td>NaN</td>\n",
       "      <td>NaN</td>\n",
       "      <td>NaN</td>\n",
       "      <td>NaN</td>\n",
       "      <td>2016.000000</td>\n",
       "    </tr>\n",
       "    <tr>\n",
       "      <th>75%</th>\n",
       "      <td>75.250000</td>\n",
       "      <td>1.0</td>\n",
       "      <td>0.000000</td>\n",
       "      <td>127.500000</td>\n",
       "      <td>0.000000</td>\n",
       "      <td>0.000000</td>\n",
       "      <td>NaN</td>\n",
       "      <td>NaN</td>\n",
       "      <td>NaN</td>\n",
       "      <td>NaN</td>\n",
       "      <td>2018.000000</td>\n",
       "    </tr>\n",
       "    <tr>\n",
       "      <th>max</th>\n",
       "      <td>254.000000</td>\n",
       "      <td>1.0</td>\n",
       "      <td>1.000000</td>\n",
       "      <td>366.000000</td>\n",
       "      <td>1.000000</td>\n",
       "      <td>1.000000</td>\n",
       "      <td>NaN</td>\n",
       "      <td>NaN</td>\n",
       "      <td>NaN</td>\n",
       "      <td>NaN</td>\n",
       "      <td>2020.000000</td>\n",
       "    </tr>\n",
       "  </tbody>\n",
       "</table>\n",
       "</div>"
      ],
      "text/plain": [
       "       Innings Runs Scored Num  Innings Batted Flag  Innings Not Out Flag  Innings Balls Faced        50's       100's  Innings Bowled Flag  4 Wickets  5 Wickets  10 Wickets         year\n",
       "count  136.000000               136.0                136.000000            136.000000           136.000000  136.000000  0.0                  0.0        0.0        0.0         136.000000 \n",
       "mean   51.750000                1.0                  0.073529              88.816176            0.147059    0.198529   NaN                  NaN        NaN        NaN          2015.691176\n",
       "std    58.086876                0.0                  0.261968              86.134022            0.355474    0.400367   NaN                  NaN        NaN        NaN          2.311051   \n",
       "min    0.000000                 1.0                  0.000000              1.000000             0.000000    0.000000   NaN                  NaN        NaN        NaN          2012.000000\n",
       "25%    9.750000                 1.0                  0.000000              22.750000            0.000000    0.000000   NaN                  NaN        NaN        NaN          2014.000000\n",
       "50%    30.000000                1.0                  0.000000              60.500000            0.000000    0.000000   NaN                  NaN        NaN        NaN          2016.000000\n",
       "75%    75.250000                1.0                  0.000000              127.500000           0.000000    0.000000   NaN                  NaN        NaN        NaN          2018.000000\n",
       "max    254.000000               1.0                  1.000000              366.000000           1.000000    1.000000   NaN                  NaN        NaN        NaN          2020.000000"
      ]
     },
     "execution_count": 245,
     "metadata": {},
     "output_type": "execute_result"
    }
   ],
   "source": [
    "vdf.describe()"
   ]
  },
  {
   "cell_type": "code",
   "execution_count": 260,
   "metadata": {},
   "outputs": [
    {
     "name": "stdout",
     "output_type": "stream",
     "text": [
      "Coefficient of variation of Virat's runs scored is 1.12\n"
     ]
    }
   ],
   "source": [
    "print(\"Coefficient of variation of Virat's runs scored is\",np.round(58.086876/51.750000,2))"
   ]
  },
  {
   "cell_type": "code",
   "execution_count": 247,
   "metadata": {},
   "outputs": [
    {
     "data": {
      "text/html": [
       "<div>\n",
       "<style scoped>\n",
       "    .dataframe tbody tr th:only-of-type {\n",
       "        vertical-align: middle;\n",
       "    }\n",
       "\n",
       "    .dataframe tbody tr th {\n",
       "        vertical-align: top;\n",
       "    }\n",
       "\n",
       "    .dataframe thead th {\n",
       "        text-align: right;\n",
       "    }\n",
       "</style>\n",
       "<table border=\"1\" class=\"dataframe\">\n",
       "  <thead>\n",
       "    <tr style=\"text-align: right;\">\n",
       "      <th></th>\n",
       "      <th>Innings Runs Scored Num</th>\n",
       "      <th>Innings Batted Flag</th>\n",
       "      <th>Innings Not Out Flag</th>\n",
       "      <th>Innings Balls Faced</th>\n",
       "      <th>50's</th>\n",
       "      <th>100's</th>\n",
       "      <th>Innings Bowled Flag</th>\n",
       "      <th>4 Wickets</th>\n",
       "      <th>5 Wickets</th>\n",
       "      <th>10 Wickets</th>\n",
       "      <th>year</th>\n",
       "    </tr>\n",
       "  </thead>\n",
       "  <tbody>\n",
       "    <tr>\n",
       "      <th>count</th>\n",
       "      <td>167.000000</td>\n",
       "      <td>167.0</td>\n",
       "      <td>167.000000</td>\n",
       "      <td>167.000000</td>\n",
       "      <td>167.000000</td>\n",
       "      <td>167.000000</td>\n",
       "      <td>0.0</td>\n",
       "      <td>0.0</td>\n",
       "      <td>0.0</td>\n",
       "      <td>0.0</td>\n",
       "      <td>167.000000</td>\n",
       "    </tr>\n",
       "    <tr>\n",
       "      <th>mean</th>\n",
       "      <td>44.946108</td>\n",
       "      <td>1.0</td>\n",
       "      <td>0.065868</td>\n",
       "      <td>81.712575</td>\n",
       "      <td>0.281437</td>\n",
       "      <td>0.101796</td>\n",
       "      <td>NaN</td>\n",
       "      <td>NaN</td>\n",
       "      <td>NaN</td>\n",
       "      <td>NaN</td>\n",
       "      <td>2016.161677</td>\n",
       "    </tr>\n",
       "    <tr>\n",
       "      <th>std</th>\n",
       "      <td>47.579516</td>\n",
       "      <td>0.0</td>\n",
       "      <td>0.248798</td>\n",
       "      <td>76.999069</td>\n",
       "      <td>0.451053</td>\n",
       "      <td>0.303290</td>\n",
       "      <td>NaN</td>\n",
       "      <td>NaN</td>\n",
       "      <td>NaN</td>\n",
       "      <td>NaN</td>\n",
       "      <td>2.069041</td>\n",
       "    </tr>\n",
       "    <tr>\n",
       "      <th>min</th>\n",
       "      <td>0.000000</td>\n",
       "      <td>1.0</td>\n",
       "      <td>0.000000</td>\n",
       "      <td>1.000000</td>\n",
       "      <td>0.000000</td>\n",
       "      <td>0.000000</td>\n",
       "      <td>NaN</td>\n",
       "      <td>NaN</td>\n",
       "      <td>NaN</td>\n",
       "      <td>NaN</td>\n",
       "      <td>2013.000000</td>\n",
       "    </tr>\n",
       "    <tr>\n",
       "      <th>25%</th>\n",
       "      <td>8.500000</td>\n",
       "      <td>1.0</td>\n",
       "      <td>0.000000</td>\n",
       "      <td>22.000000</td>\n",
       "      <td>0.000000</td>\n",
       "      <td>0.000000</td>\n",
       "      <td>NaN</td>\n",
       "      <td>NaN</td>\n",
       "      <td>NaN</td>\n",
       "      <td>NaN</td>\n",
       "      <td>2015.000000</td>\n",
       "    </tr>\n",
       "    <tr>\n",
       "      <th>50%</th>\n",
       "      <td>29.000000</td>\n",
       "      <td>1.0</td>\n",
       "      <td>0.000000</td>\n",
       "      <td>57.000000</td>\n",
       "      <td>0.000000</td>\n",
       "      <td>0.000000</td>\n",
       "      <td>NaN</td>\n",
       "      <td>NaN</td>\n",
       "      <td>NaN</td>\n",
       "      <td>NaN</td>\n",
       "      <td>2016.000000</td>\n",
       "    </tr>\n",
       "    <tr>\n",
       "      <th>75%</th>\n",
       "      <td>66.500000</td>\n",
       "      <td>1.0</td>\n",
       "      <td>0.000000</td>\n",
       "      <td>123.000000</td>\n",
       "      <td>1.000000</td>\n",
       "      <td>0.000000</td>\n",
       "      <td>NaN</td>\n",
       "      <td>NaN</td>\n",
       "      <td>NaN</td>\n",
       "      <td>NaN</td>\n",
       "      <td>2018.000000</td>\n",
       "    </tr>\n",
       "    <tr>\n",
       "      <th>max</th>\n",
       "      <td>254.000000</td>\n",
       "      <td>1.0</td>\n",
       "      <td>1.000000</td>\n",
       "      <td>441.000000</td>\n",
       "      <td>1.000000</td>\n",
       "      <td>1.000000</td>\n",
       "      <td>NaN</td>\n",
       "      <td>NaN</td>\n",
       "      <td>NaN</td>\n",
       "      <td>NaN</td>\n",
       "      <td>2020.000000</td>\n",
       "    </tr>\n",
       "  </tbody>\n",
       "</table>\n",
       "</div>"
      ],
      "text/plain": [
       "       Innings Runs Scored Num  Innings Batted Flag  Innings Not Out Flag  Innings Balls Faced        50's       100's  Innings Bowled Flag  4 Wickets  5 Wickets  10 Wickets         year\n",
       "count  167.000000               167.0                167.000000            167.000000           167.000000  167.000000  0.0                  0.0        0.0        0.0         167.000000 \n",
       "mean   44.946108                1.0                  0.065868              81.712575            0.281437    0.101796   NaN                  NaN        NaN        NaN          2016.161677\n",
       "std    47.579516                0.0                  0.248798              76.999069            0.451053    0.303290   NaN                  NaN        NaN        NaN          2.069041   \n",
       "min    0.000000                 1.0                  0.000000              1.000000             0.000000    0.000000   NaN                  NaN        NaN        NaN          2013.000000\n",
       "25%    8.500000                 1.0                  0.000000              22.000000            0.000000    0.000000   NaN                  NaN        NaN        NaN          2015.000000\n",
       "50%    29.000000                1.0                  0.000000              57.000000            0.000000    0.000000   NaN                  NaN        NaN        NaN          2016.000000\n",
       "75%    66.500000                1.0                  0.000000              123.000000           1.000000    0.000000   NaN                  NaN        NaN        NaN          2018.000000\n",
       "max    254.000000               1.0                  1.000000              441.000000           1.000000    1.000000   NaN                  NaN        NaN        NaN          2020.000000"
      ]
     },
     "execution_count": 247,
     "metadata": {},
     "output_type": "execute_result"
    }
   ],
   "source": [
    "rdf.describe()"
   ]
  },
  {
   "cell_type": "code",
   "execution_count": 261,
   "metadata": {},
   "outputs": [
    {
     "name": "stdout",
     "output_type": "stream",
     "text": [
      "Coefficient of variation of Root's runs scored is 1.06\n"
     ]
    }
   ],
   "source": [
    "print(\"Coefficient of variation of Root's runs scored is\", np.round(47.579516/44.946108,2))"
   ]
  },
  {
   "cell_type": "code",
   "execution_count": 249,
   "metadata": {},
   "outputs": [
    {
     "data": {
      "image/png": "[encoded data removed]",
      "text/plain": [
       "<Figure size 432x288 with 1 Axes>"
      ]
     },
     "metadata": {
      "needs_background": "light"
     },
     "output_type": "display_data"
    }
   ],
   "source": [
    "vdf.groupby(['year'])['Innings Runs Scored Num'].sum().plot(kind='bar')\n",
    "plt.show()"
   ]
  },
  {
   "cell_type": "code",
   "execution_count": 250,
   "metadata": {},
   "outputs": [
    {
     "data": {
      "image/png": "[encoded data removed]",
      "text/plain": [
       "<Figure size 432x288 with 1 Axes>"
      ]
     },
     "metadata": {
      "needs_background": "light"
     },
     "output_type": "display_data"
    }
   ],
   "source": [
    "rdf.groupby(['year'])['Innings Runs Scored Num'].sum().plot(kind='bar')\n",
    "plt.show()"
   ]
  },
  {
   "cell_type": "markdown",
   "metadata": {},
   "source": [
    "# Team Contribution: tie breaker"
   ]
  },
  {
   "cell_type": "code",
   "execution_count": 251,
   "metadata": {},
   "outputs": [],
   "source": [
    "# 5. team contribution: Here we are already comparing with rest of the team, hence no need of a normalization"
   ]
  },
  {
   "cell_type": "code",
   "execution_count": 252,
   "metadata": {},
   "outputs": [
    {
     "data": {
      "text/plain": [
       "5.53"
      ]
     },
     "execution_count": 252,
     "metadata": {},
     "output_type": "execute_result"
    }
   ],
   "source": [
    "# virat\n",
    "np.round(100*sum(vdf['Innings Runs Scored Num'])/sum(virat_df[virat_df.Country == 'India']['Innings Runs Scored Num']),2)"
   ]
  },
  {
   "cell_type": "code",
   "execution_count": 253,
   "metadata": {},
   "outputs": [
    {
     "data": {
      "text/plain": [
       "5.33"
      ]
     },
     "execution_count": 253,
     "metadata": {},
     "output_type": "execute_result"
    }
   ],
   "source": [
    "# root\n",
    "np.round(100*sum(rdf['Innings Runs Scored Num'])/sum(root_df[root_df.Country == 'England']['Innings Runs Scored Num']),2)"
   ]
  },
  {
   "cell_type": "code",
   "execution_count": null,
   "metadata": {},
   "outputs": [],
   "source": []
  }
 ],
 "metadata": {
  "kernelspec": {
   "display_name": "Python 3",
   "language": "python",
   "name": "python3"
  },
  "language_info": {
   "codemirror_mode": {
    "name": "ipython",
    "version": 3
   },
   "file_extension": ".py",
   "mimetype": "text/x-python",
   "name": "python",
   "nbconvert_exporter": "python",
   "pygments_lexer": "ipython3",
   "version": "3.8.3"
  }
 },
 "nbformat": 4,
 "nbformat_minor": 4
}
